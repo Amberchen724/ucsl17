{
 "cells": [
  {
   "cell_type": "markdown",
   "metadata": {},
   "source": [
    "## 03 - 03 Broadcasting and more Computation\n",
    "### 03 - 03.01 Broadcasting\n",
    "Broadcasting is a set of rules for applying `ufuncs` (e.g., addition, subtraction, multiplication, etc.) on arrays of different sizes. It is an important functionality to leverage the power of Numpy. \n",
    "\n",
    "If you remember from previous module, `ufunc` operations are performed element-by-element wise. Lets take a look at adding a scalar (we did this in Arithmetic subsection of previous module)"
   ]
  },
  {
   "cell_type": "code",
   "execution_count": 1,
   "metadata": {},
   "outputs": [
    {
     "name": "stdout",
     "output_type": "stream",
     "text": [
      "Arr1: \n",
      "[33 12 39 11 31]\n",
      "\n",
      "num : \n",
      "5\n",
      "\n",
      "Sum : \n",
      "[38 17 44 16 36]\n",
      "\n"
     ]
    }
   ],
   "source": [
    "from __future__ import print_function\n",
    "import numpy as np\n",
    "arr1 = np.random.randint(1, 40, 5)\n",
    "num  = 5\n",
    "print(\"Arr1: \\n{}\".format(arr1), end=\"\\n\\n\")\n",
    "print(\"num : \\n{}\".format(num), end=\"\\n\\n\")\n",
    "print(\"Sum : \\n{}\".format(arr1+num), end=\"\\n\\n\")"
   ]
  },
  {
   "cell_type": "markdown",
   "metadata": {},
   "source": [
    "Broadcasting allows these types of binary operations to be performed on arrays of different sizes just as we added a scalar (think of a scalar as a zero-dimensional array) to the array.\n",
    "\n",
    "We can think of this as an operation that *stretches* or *duplicates* the value `5` into the array `[5, 5, 5, 5, 5]`, and adds it to the array. This duplication does not actually take place during Broadcasting but it is a useful logic to remember when you talk about broadcasting.\n",
    "\n",
    "Just like adding scalar, we can perform broadcasting on multi-dimensional arrays as well.. however there are rules to be followed for `broadcasting` to work.\n",
    "\n",
    "- Rule 1: If the two arrays differ in their number of dimensions, the shape of the one with fewer dimensions is *padded* with ones on its leading (left) side.\n",
    "- Rule 2: If the shape of the two arrays does not match in any dimension, the array with shape equal to 1 in that dimension is stretched to match the other shape.\n",
    "- Rule 3: If in any dimension the sizes disagree and neither is equal to 1, an error is raised.\n",
    "\n",
    "Lets add two arrays of different sizes"
   ]
  },
  {
   "cell_type": "code",
   "execution_count": 2,
   "metadata": {
    "collapsed": true
   },
   "outputs": [],
   "source": [
    "arr1 = np.ones((3, 4))\n",
    "arr2 = np.arange(4)"
   ]
  },
  {
   "cell_type": "markdown",
   "metadata": {},
   "source": [
    "Lets match these arrays to our set of Rules.\n",
    "\n",
    "Rule 1: Shape mismatch!\n",
    "- arr1 is of shape `m1 x n1 = 3 x 4`\n",
    "- arr2 is of shape `m2 x n2 = 1 x 4`\n",
    "\n",
    "Rule 2: **Stretch** `m2` or the first dimension of arr2 to match `m1` or the first dimension of arr1. So Now,\n",
    "- arr1 is of shape `m1 x n1 = 3 x 4`\n",
    "- arr2 is of shape `m2 x n2 = 3 x 4`\n",
    "\n",
    "Rule 3: Doesnt apply since m1 x n1 = m2 x n2"
   ]
  },
  {
   "cell_type": "code",
   "execution_count": 3,
   "metadata": {},
   "outputs": [
    {
     "data": {
      "text/plain": [
       "array([[ 1.,  2.,  3.,  4.],\n",
       "       [ 1.,  2.,  3.,  4.],\n",
       "       [ 1.,  2.,  3.,  4.]])"
      ]
     },
     "execution_count": 3,
     "metadata": {},
     "output_type": "execute_result"
    }
   ],
   "source": [
    "arr1 + arr2"
   ]
  },
  {
   "cell_type": "markdown",
   "metadata": {},
   "source": [
    "Now lets look at an example where we add arr1 to the transpose of arr1 itself. Lets first print out the transpose and then we shall apply the rules as we did for previous example"
   ]
  },
  {
   "cell_type": "code",
   "execution_count": 4,
   "metadata": {},
   "outputs": [
    {
     "name": "stdout",
     "output_type": "stream",
     "text": [
      "Arr1: \n",
      "[[ 1.  1.  1.  1.]\n",
      " [ 1.  1.  1.  1.]\n",
      " [ 1.  1.  1.  1.]]\n",
      "arr1.shape: (3, 4)\n",
      "\n",
      "Arr1 Transpose: \n",
      "[[ 1.  1.  1.]\n",
      " [ 1.  1.  1.]\n",
      " [ 1.  1.  1.]\n",
      " [ 1.  1.  1.]]\n",
      "arr1.T.shape: (4, 3)\n"
     ]
    }
   ],
   "source": [
    "print(\"Arr1: \\n{}\".format(arr1))\n",
    "print(\"arr1.shape: {}\".format(arr1.shape), end=\"\\n\\n\")\n",
    "print(\"Arr1 Transpose: \\n{}\".format(arr1.T))\n",
    "print(\"arr1.T.shape: {}\".format(arr1.T.shape))"
   ]
  },
  {
   "cell_type": "markdown",
   "metadata": {},
   "source": [
    "Lets apply our rules:\n",
    "\n",
    "Rule 1: Shape mismatch!\n",
    "- arr1 is of shape   `m1 x n1 = 3 x 4`\n",
    "- arr1.T is of shape `m2 x n2 = 4 x 3`\n",
    "\n",
    "Rule 2: **Stretch** `m1` or the first dimension of arr1 to match `m2` or the first dimension of arr1.T. So now,\n",
    "- arr1 is of shape   `m1 x n1 = 4 x 4`\n",
    "- arr1.T is of shape `m2 x n2 = 4 x 3`\n",
    "\n",
    "Rule 3: `n1` and `n2` or the second dimension of both the arrays are definitely not `1` and they don't match! This will raise a `ValueError`"
   ]
  },
  {
   "cell_type": "code",
   "execution_count": 5,
   "metadata": {},
   "outputs": [
    {
     "ename": "ValueError",
     "evalue": "operands could not be broadcast together with shapes (3,4) (4,3) ",
     "output_type": "error",
     "traceback": [
      "\u001b[0;31m---------------------------------------------------------------------------\u001b[0m",
      "\u001b[0;31mValueError\u001b[0m                                Traceback (most recent call last)",
      "\u001b[0;32m<ipython-input-5-d3b06db3ad5f>\u001b[0m in \u001b[0;36m<module>\u001b[0;34m()\u001b[0m\n\u001b[0;32m----> 1\u001b[0;31m \u001b[0marr1\u001b[0m \u001b[0;34m+\u001b[0m \u001b[0marr1\u001b[0m\u001b[0;34m.\u001b[0m\u001b[0mT\u001b[0m\u001b[0;34m\u001b[0m\u001b[0m\n\u001b[0m",
      "\u001b[0;31mValueError\u001b[0m: operands could not be broadcast together with shapes (3,4) (4,3) "
     ]
    }
   ],
   "source": [
    "arr1 + arr1.T"
   ]
  },
  {
   "cell_type": "markdown",
   "metadata": {},
   "source": [
    "So whats important is that the second dimension of both the arrays need to match! The first dimension can be stretched to match the size of the largest array. Thats how broadcasting works!\n",
    "\n",
    "Take a look at the example from previous module where we got a ValueError when we tried broadcasting on two arrays of different shape:\n",
    "```ipython\n",
    "arr1 = np.array([1., 2., 3., 4.])\n",
    "arr2 = np.linspace(4, 16, num=3)\n",
    "arr1 + arr2\n",
    "```\n",
    "Can you solve it now?"
   ]
  },
  {
   "cell_type": "markdown",
   "metadata": {},
   "source": [
    "### 03 - 03.02 Aggregation\n",
    "When performing analysis on any dataset, most of the times the first thing that you would end up doing is finding the summary statistics of the datasets. Things like maximum, minimum, mean, variance etc. is the first thing you would look at (for the relevant columns). Numpy provides such fast-performing aggregation ufuncs. Lets take a look at some\n",
    "\n",
    "#### .. 03.02.01 sum\n",
    "As the name suggests, this function will return the sum of all the values of an array"
   ]
  },
  {
   "cell_type": "code",
   "execution_count": 35,
   "metadata": {},
   "outputs": [
    {
     "name": "stdout",
     "output_type": "stream",
     "text": [
      "Sum of 1D: 3499093\n"
     ]
    }
   ],
   "source": [
    "arr = np.random.randint(1, 700, 10000)\n",
    "print(\"Sum of 1D: {}\".format(np.sum(arr)))"
   ]
  },
  {
   "cell_type": "code",
   "execution_count": 36,
   "metadata": {},
   "outputs": [
    {
     "name": "stdout",
     "output_type": "stream",
     "text": [
      "Sum of 2D: 3956.78803416312\n"
     ]
    }
   ],
   "source": [
    "arr2d = np.random.uniform(1, 700, (3, 4))\n",
    "print(\"Sum of 2D: {}\".format(np.sum(arr2d)))"
   ]
  },
  {
   "cell_type": "markdown",
   "metadata": {},
   "source": [
    "#### .. 03.02.02 max and min\n",
    "This will find the maximum and minimum value in an array."
   ]
  },
  {
   "cell_type": "code",
   "execution_count": 37,
   "metadata": {},
   "outputs": [
    {
     "name": "stdout",
     "output_type": "stream",
     "text": [
      "Max of 1D arr: 699\n",
      "Min of 1D arr: 1\n",
      "Max of 2D arr: 585.196247095094\n",
      "Min of 2D arr: 25.090820435319227\n"
     ]
    }
   ],
   "source": [
    "print(\"Max of 1D arr: {}\".format(np.max(arr)))\n",
    "print(\"Min of 1D arr: {}\".format(np.min(arr)))\n",
    "print(\"Max of 2D arr: {}\".format(np.max(arr2d)))\n",
    "print(\"Min of 2D arr: {}\".format(np.min(arr2d)))"
   ]
  },
  {
   "cell_type": "markdown",
   "metadata": {},
   "source": [
    "We can also get minimum and maximum along a particular axis\n",
    "> - axis 0 = along the column\n",
    "> - axis 1 = along the row"
   ]
  },
  {
   "cell_type": "code",
   "execution_count": 40,
   "metadata": {},
   "outputs": [
    {
     "name": "stdout",
     "output_type": "stream",
     "text": [
      "2D Array: \n",
      "[[ 284.98861255  247.58527166  223.10549946  218.04079432]\n",
      " [ 585.1962471    25.09082044  432.97492665  372.13297385]\n",
      " [ 507.73110919  320.88604643  170.8015855   568.25414701]]\n",
      "\n",
      "Max of 2D arr along axis 0: [ 585.1962471   320.88604643  432.97492665  568.25414701]\n",
      "Min of 2D arr along axis 0: [ 284.98861255   25.09082044  170.8015855   218.04079432]\n"
     ]
    }
   ],
   "source": [
    "print(\"2D Array: \\n{}\".format(arr2d), end=\"\\n\\n\")\n",
    "print(\"Max of 2D arr along axis 0: {}\".format(np.amax(arr2d, axis=0)))\n",
    "print(\"Min of 2D arr along axis 0: {}\".format(np.amin(arr2d, axis=0)))"
   ]
  },
  {
   "cell_type": "markdown",
   "metadata": {},
   "source": [
    "#### .. 03.03.03 std\n",
    "Compute standard deviation along a particular axis"
   ]
  },
  {
   "cell_type": "code",
   "execution_count": 41,
   "metadata": {},
   "outputs": [
    {
     "name": "stdout",
     "output_type": "stream",
     "text": [
      "2D Array: \n",
      "[[ 284.98861255  247.58527166  223.10549946  218.04079432]\n",
      " [ 585.1962471    25.09082044  432.97492665  372.13297385]\n",
      " [ 507.73110919  320.88604643  170.8015855   568.25414701]]\n",
      "\n",
      "Std along axis 0: \n",
      "[ 127.25289398  125.77387122  113.29202026  143.31678461]\n",
      "Std along axis 1: \n",
      "[  26.46734614  205.06017735  156.87982677]\n"
     ]
    }
   ],
   "source": [
    "print(\"2D Array: \\n{}\".format(arr2d), end=\"\\n\\n\")\n",
    "print(\"Std along axis 0: \\n{}\".format(np.std(arr2d, axis=0)))\n",
    "print(\"Std along axis 1: \\n{}\".format(np.std(arr2d, axis=1)))"
   ]
  },
  {
   "cell_type": "markdown",
   "metadata": {},
   "source": [
    "We will take a look at more of these in module on matplotlib so that while we will be printing the output, we will also be able to plot the results for a better understanding. If you are intersted to know about more such functions, you can check the link on official documentation here: [`Numpy Statistics Routines`](https://docs.scipy.org/doc/numpy/reference/routines.statistics.html)"
   ]
  }
 ],
 "metadata": {
  "kernelspec": {
   "display_name": "Python 3",
   "language": "python",
   "name": "python3"
  },
  "language_info": {
   "codemirror_mode": {
    "name": "ipython",
    "version": 3
   },
   "file_extension": ".py",
   "mimetype": "text/x-python",
   "name": "python",
   "nbconvert_exporter": "python",
   "pygments_lexer": "ipython3",
   "version": "3.6.1"
  }
 },
 "nbformat": 4,
 "nbformat_minor": 2
}
