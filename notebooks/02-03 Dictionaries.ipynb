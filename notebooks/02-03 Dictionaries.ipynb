{
 "cells": [
  {
   "cell_type": "markdown",
   "metadata": {
    "deletable": true,
    "editable": true
   },
   "source": [
    "## 01 - 07 Dictionaries\n",
    "Python dictionary is an interesting and useful data structure in python. It is a container of key-value pairs. Just like lists, python dictionaries are mutable and can contain mixed types, however the key **must** be immutable (i.e the object being used as a key must be [hashable](https://docs.python.org/3/glossary.html#term-hashable)) -- e.g. like strings or numbers or even Tuples and must be unique within a dictionary. \n",
    "\n",
    "Python dictionaries are also known as hash tables in other programming languages. Each key is separated from its value by a colon ( `:` ) and just like lists the items are separated by commas and the whole thing is enclosed in curly braces (`{}`).\n",
    "\n",
    "An important thing to remember is that, by design, python dictionaries do not maintain any ordering (i.e the sequence in which the objects were entered). This lack of ordering allows random elements to be accessed quickly, regardless of the size of the dictionary.\n",
    "\n",
    "> For curious minds who wants to know more about `hash`ing (it is not *required*), [wikipedia](https://en.wikipedia.org/wiki/Hash_table) has a good writeup and then maybe this [StackOverflow](http://stackoverflow.com/questions/2061222/what-is-the-true-difference-between-a-dictionary-and-a-hash-table) link.\n",
    "\n",
    "### .. 07.01 Creating Dictionaries"
   ]
  },
  {
   "cell_type": "code",
   "execution_count": null,
   "metadata": {
    "collapsed": false,
    "deletable": true,
    "editable": true
   },
   "outputs": [],
   "source": [
    "student = {'Name': 'John', 'Class': 'Urban Skills', 'Course': 'Python'}\n",
    "print(student)\n",
    "print(type(student))"
   ]
  },
  {
   "cell_type": "code",
   "execution_count": null,
   "metadata": {
    "collapsed": false,
    "deletable": true,
    "editable": true
   },
   "outputs": [],
   "source": [
    "# Creating empty dictionary\n",
    "states = {}\n",
    "# Keys are inside square brackets and values on the right side of assignment\n",
    "states['AL'] = 'Alabama'\n",
    "states['NY'] = 'New York'\n",
    "print(states)"
   ]
  },
  {
   "cell_type": "markdown",
   "metadata": {
    "deletable": true,
    "editable": true
   },
   "source": [
    "You can convert other data structures like lists and tuples to dictionaries too.. Lets look at some of the ways to achieve that:\n",
    "\n",
    "#### .. 07.01.01 fromkeys()"
   ]
  },
  {
   "cell_type": "code",
   "execution_count": null,
   "metadata": {
    "collapsed": false,
    "deletable": true,
    "editable": true
   },
   "outputs": [],
   "source": [
    "states_key_list   = ['AL', 'NY']\n",
    "# Instead of 0 you can leave the field empty\n",
    "states_dict       = {}.fromkeys(states_key_list, 0)\n",
    "print(\"Just added keys with default values as 0: \", states_dict)\n",
    "states_dict['AL'] = 'Alabama'\n",
    "states_dict['NY'] = 'New York'\n",
    "print(states_dict)"
   ]
  },
  {
   "cell_type": "markdown",
   "metadata": {
    "deletable": true,
    "editable": true
   },
   "source": [
    "#### .. 07.01.02 zip()\n",
    "This is a python built-in method to group every element from each iterable passed as an argument.\n",
    "`zip` will return the group of size equal to the smallest iterable."
   ]
  },
  {
   "cell_type": "code",
   "execution_count": null,
   "metadata": {
    "collapsed": false,
    "deletable": true,
    "editable": true
   },
   "outputs": [],
   "source": [
    "states_key_list = ['AL', 'NY']\n",
    "states_val_list = ['Alabama', 'New York']\n",
    "states_dict     = dict(zip(states_key_list, states_val_list))\n",
    "print(states_dict)"
   ]
  },
  {
   "cell_type": "code",
   "execution_count": null,
   "metadata": {
    "collapsed": false,
    "deletable": true,
    "editable": true
   },
   "outputs": [],
   "source": [
    "# what happens if we have more keys than values\n",
    "states_key_tup  = ('AL', 'NY', 'TX', 'NJ')\n",
    "states_val_list = ['Alabama', 'New York', 'Texas']\n",
    "states_dict     = dict(zip(states_key_tup, states_val_list))\n",
    "print(states_dict)"
   ]
  },
  {
   "cell_type": "markdown",
   "metadata": {
    "deletable": true,
    "editable": true
   },
   "source": [
    "### .. 07.03 Accessing Dictionary Items\n",
    "\n",
    "#### .. 07.03.01 Passing key as index to the dictionary"
   ]
  },
  {
   "cell_type": "code",
   "execution_count": null,
   "metadata": {
    "collapsed": false,
    "deletable": true,
    "editable": true
   },
   "outputs": [],
   "source": [
    "student = {'Name': 'John', 'Class': 'Urban Skills', 'Course': 'Python'}\n",
    "student['Name']"
   ]
  },
  {
   "cell_type": "markdown",
   "metadata": {
    "deletable": true,
    "editable": true
   },
   "source": [
    "#### .. 07.03.02 get(key [, default])"
   ]
  },
  {
   "cell_type": "code",
   "execution_count": null,
   "metadata": {
    "collapsed": false,
    "deletable": true,
    "editable": true
   },
   "outputs": [],
   "source": [
    "# If key is in Dictionary, it will return the value else return the \n",
    "# default.. in this case default = \"Not Found\"\n",
    "print(\"Course:   \", student.get('Course'  , 'Not Found'))\n",
    "# This will print Not Found since there is not key 'Location'\n",
    "print(\"Location: \", student.get('Location', 'Not Found'))"
   ]
  },
  {
   "cell_type": "markdown",
   "metadata": {
    "deletable": true,
    "editable": true
   },
   "source": [
    "### .. 07.04 Updating Dictionary:\n",
    "\n",
    "The dictionary can be updated by adding a new entry or a new key-value pair, modifying existing entry and/ or deleting an entry.\n",
    "\n",
    "#### .. 07.04.01 Passing key as index and assigning value"
   ]
  },
  {
   "cell_type": "code",
   "execution_count": null,
   "metadata": {
    "collapsed": false,
    "deletable": true,
    "editable": true
   },
   "outputs": [],
   "source": [
    "student = {'Name': 'John', 'Class': 'Urban Skills', 'Course': 'Python'}\n",
    "student['Degree']   = 'Masters'\n",
    "student['Location'] = 'NYU CUSP'\n",
    "student"
   ]
  },
  {
   "cell_type": "markdown",
   "metadata": {
    "deletable": true,
    "editable": true
   },
   "source": [
    "#### .. 07.04.02 setdefault( )\n",
    "\n",
    "In python, the value (of a key-value pair) is mutable. However at times you might not want to overwrite the key-value pair if it already exists. \n",
    "You can achieve this by using `setdefault()` method. setdefault method returns a value if a key is present. Otherwise it inserts a key with the specified value and returns the value"
   ]
  },
  {
   "cell_type": "code",
   "execution_count": null,
   "metadata": {
    "collapsed": false,
    "deletable": true,
    "editable": true
   },
   "outputs": [],
   "source": [
    "student = {'Name': 'John', 'Class': 'Urban Skills', 'Course': 'Python'}\n",
    "# This will add the 'Degree:Masters' key value pair since it doesn't exist\n",
    "# and return the value added\n",
    "student.setdefault('Degree', 'Masters')"
   ]
  },
  {
   "cell_type": "code",
   "execution_count": null,
   "metadata": {
    "collapsed": false,
    "deletable": true,
    "editable": true
   },
   "outputs": [],
   "source": [
    "# This will return the existing value for key = \"Class\"\n",
    "student.setdefault('Class','Urban Sensing')"
   ]
  },
  {
   "cell_type": "code",
   "execution_count": null,
   "metadata": {
    "collapsed": false,
    "deletable": true,
    "editable": true
   },
   "outputs": [],
   "source": [
    "print(student)"
   ]
  },
  {
   "cell_type": "markdown",
   "metadata": {
    "deletable": true,
    "editable": true
   },
   "source": [
    "#### .. 07.04.03 update( )\n",
    "\n",
    "The update method adds (joins) the two dictionary together."
   ]
  },
  {
   "cell_type": "code",
   "execution_count": null,
   "metadata": {
    "collapsed": false,
    "deletable": true,
    "editable": true
   },
   "outputs": [],
   "source": [
    "states_dict = {'AL': 'Alabama', 'NY': 'New York'}\n",
    "states_dict2 = {'NJ': 'New Jersey', 'CA': 'California'}\n",
    "states_dict.update(states_dict2)\n",
    "states_dict"
   ]
  },
  {
   "cell_type": "markdown",
   "metadata": {
    "deletable": true,
    "editable": true
   },
   "source": [
    "### .. 07.05 Removing elements from Dictionary\n",
    "\n",
    "#### .. 07.05.01 pop( )\n",
    "\n",
    "Pop() method removes the key-value pair based on the key passed as an argument. It returns the value that is being 'popped' from the dictionary"
   ]
  },
  {
   "cell_type": "code",
   "execution_count": null,
   "metadata": {
    "collapsed": false,
    "deletable": true,
    "editable": true
   },
   "outputs": [],
   "source": [
    "states_dict = {'AL': 'Alabama', 'CA': 'California', 'NJ': 'New Jersey', 'NY': 'New York'}\n",
    "states_dict.pop('AL')"
   ]
  },
  {
   "cell_type": "code",
   "execution_count": null,
   "metadata": {
    "collapsed": false,
    "deletable": true,
    "editable": true
   },
   "outputs": [],
   "source": [
    "states_dict"
   ]
  },
  {
   "cell_type": "markdown",
   "metadata": {
    "deletable": true,
    "editable": true
   },
   "source": [
    "#### .. 07.05.02 del()\n",
    "del() method can be used to perform the above operation and also can be used to remove an entire dictionary. It does not return anything."
   ]
  },
  {
   "cell_type": "code",
   "execution_count": null,
   "metadata": {
    "collapsed": false,
    "deletable": true,
    "editable": true
   },
   "outputs": [],
   "source": [
    "states_dict = {'AL': 'Alabama', 'CA': 'California', 'NJ': 'New Jersey', 'NY': 'New York'}\n",
    "del states_dict['AL']\n",
    "states_dict"
   ]
  },
  {
   "cell_type": "code",
   "execution_count": null,
   "metadata": {
    "collapsed": false,
    "deletable": true,
    "editable": true
   },
   "outputs": [],
   "source": [
    "# delete the whole dictionary\n",
    "del states_dict\n",
    "print(states_dict)"
   ]
  },
  {
   "cell_type": "markdown",
   "metadata": {
    "deletable": true,
    "editable": true
   },
   "source": [
    "#### .. 07.05.03 clear( )\n",
    "\n",
    "clear method clears all items from the dictionary but does not delete the dictionary"
   ]
  },
  {
   "cell_type": "code",
   "execution_count": null,
   "metadata": {
    "collapsed": false,
    "deletable": true,
    "editable": true
   },
   "outputs": [],
   "source": [
    "states_dict = {'CA': 'California', 'NJ': 'New Jersey', 'NY': 'New York'}\n",
    "states_dict.clear()\n",
    "states_dict"
   ]
  },
  {
   "cell_type": "markdown",
   "metadata": {
    "deletable": true,
    "editable": true
   },
   "source": [
    "### .. 07.06 Traversing a Dictionary\n",
    "\n",
    "#### .. 07.06.01 for loop:\n",
    "\n",
    "A dictionary can be traversed using for loops."
   ]
  },
  {
   "cell_type": "code",
   "execution_count": null,
   "metadata": {
    "collapsed": false,
    "deletable": true,
    "editable": true
   },
   "outputs": [],
   "source": [
    "states_dict = {'AL': 'Alabama', 'CA': 'California', 'NJ': 'New Jersey', 'NY': 'New York'}\n",
    "for k in states_dict:\n",
    "    print(\"{key}: {val}\".format(key=k, val=states_dict[k]))"
   ]
  },
  {
   "cell_type": "code",
   "execution_count": null,
   "metadata": {
    "collapsed": false,
    "deletable": true,
    "editable": true
   },
   "outputs": [],
   "source": [
    " # We will see items() method in next sub- topic\n",
    "for k, v in states_dict.items():\n",
    "    print(': '.join((k, v)))"
   ]
  },
  {
   "cell_type": "markdown",
   "metadata": {
    "deletable": true,
    "editable": true
   },
   "source": [
    "> Check the print statements in above two examples."
   ]
  },
  {
   "cell_type": "markdown",
   "metadata": {
    "deletable": true,
    "editable": true
   },
   "source": [
    "#### .. 07.06.02 keys( ) , values( ) and items( )\n",
    "\n",
    "The keys() method returns a list of keys in dictionary. The values() method returns a list of all the values and items() returns a list of all key-value tuples.\n",
    "\n",
    "> - For python2 users: The above methods will directly return a list (note: a `list`!). \n",
    "- For python3 users: The above methods return dict_keys, dict_values and dict_items respectively which are basically `view` objects (note: `view`!). \n",
    "    - view objects are faster and require small and fixed amount of memory and processor time. (python2 equivalent of these are `viewkeys()`, `viewvalues()` and `viewitems()`).\n",
    "    - `views` are *dynamic view* of the dictionary which shows the contents of the dictionary even after it changes. They offer features that differ from those of lists: a list of keys contain a copy of the dictionary keys at a given point in time, while a view is dynamic and is much faster to obtain, as it does not have to copy any data (keys or values) in order to be created.\n",
    "    - These `views` can be converted to lists by passing them to list constructor. e.g. `list(dict_keys)`. This technique will also work for python2 users.\n",
    "- Python2 users: wherever you see `.keys()` or `.items()` or `.values()` you can also use `.viewkeys()`, `.viewitems()` and `.viewvalues()` respectively. These will return the `dict_keys`, `dict_items` and `dict_values`."
   ]
  },
  {
   "cell_type": "code",
   "execution_count": null,
   "metadata": {
    "collapsed": false,
    "deletable": true,
    "editable": true
   },
   "outputs": [],
   "source": [
    "states_dict = {'AL': 'Alabama', 'CA': 'California', \n",
    "               'NJ': 'New Jersey', 'NY': 'New York'}\n",
    "list(states_dict.keys())"
   ]
  },
  {
   "cell_type": "code",
   "execution_count": null,
   "metadata": {
    "collapsed": false,
    "deletable": true,
    "editable": true
   },
   "outputs": [],
   "source": [
    "list(states_dict.values())"
   ]
  },
  {
   "cell_type": "code",
   "execution_count": null,
   "metadata": {
    "collapsed": false,
    "deletable": true,
    "editable": true
   },
   "outputs": [],
   "source": [
    "list(states_dict.items())"
   ]
  },
  {
   "cell_type": "markdown",
   "metadata": {
    "deletable": true,
    "editable": true
   },
   "source": [
    "### 07.07 Sorting\n",
    "\n",
    "Dictionaries in python can be sorted using keys or values in ascending or descending order. First let us look as the built-in function sorted() and then the method specific to collections class.\n",
    "\n",
    "#### .. 07.07.01 sorted( )\n",
    "\n",
    "Sorted method returns a new list containing sorted items from iterable (in our case it is a dictionary). It can also take a boolean value for reverse, which, if set as True, will sort the iterable in descending order.\n",
    "\n",
    "In this example, we will sort the dictionary by keys."
   ]
  },
  {
   "cell_type": "code",
   "execution_count": null,
   "metadata": {
    "collapsed": false,
    "deletable": true,
    "editable": true
   },
   "outputs": [],
   "source": [
    "states_dict = {'AL': 'Alabama', 'CA': 'California', \n",
    "               'NJ': 'New Jersey', 'NY': 'New York'}\n",
    "sorted_keys = sorted(list(states_dict.keys()), reverse=False)\n",
    "for key in sorted_keys:\n",
    "    print('{} : {}'.format(key, states_dict[key]))"
   ]
  },
  {
   "cell_type": "markdown",
   "metadata": {
    "deletable": true,
    "editable": true
   },
   "source": [
    "#### .. 07.07.02 sort()\n",
    "This method sorts the list inplace!\n",
    "\n",
    "> Remember: Creating a copy of lists is expensive. You should always try to reduce the copies that you create."
   ]
  },
  {
   "cell_type": "code",
   "execution_count": null,
   "metadata": {
    "collapsed": false,
    "deletable": true,
    "editable": true
   },
   "outputs": [],
   "source": [
    "states_dict = {'AL': 'Alabama', 'CA': 'California', \n",
    "               'NJ': 'New Jersey', 'NY': 'New York'}\n",
    "k = list(states_dict.keys())\n",
    "k.sort(reverse=False)\n",
    "for key in k:\n",
    "    print('{key} : {val}'.format(key=key, val=states_dict[key]))"
   ]
  },
  {
   "cell_type": "markdown",
   "metadata": {
    "deletable": true,
    "editable": true
   },
   "source": [
    "*Remember, If you have any difficulty using any function or method in Jupyter notebook, type the function or method name followed by a '?' or `shift + Tab` and it will print the docstring/ help manual for you.*"
   ]
  }
 ],
 "metadata": {
  "kernelspec": {
   "display_name": "Python 3",
   "language": "python",
   "name": "python3"
  },
  "language_info": {
   "codemirror_mode": {
    "name": "ipython",
    "version": 3
   },
   "file_extension": ".py",
   "mimetype": "text/x-python",
   "name": "python",
   "nbconvert_exporter": "python",
   "pygments_lexer": "ipython3",
   "version": "3.6.1"
  }
 },
 "nbformat": 4,
 "nbformat_minor": 2
}
