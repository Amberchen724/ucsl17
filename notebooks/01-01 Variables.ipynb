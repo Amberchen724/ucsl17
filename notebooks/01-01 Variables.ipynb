{
 "cells": [
  {
   "cell_type": "markdown",
   "metadata": {
    "collapsed": true,
    "deletable": true,
    "editable": true
   },
   "source": [
    "## 01 - 01 Variables\n",
    "As the name implies, a variable is something that can change. A variable is just a way of referring to a memory location used by a python program. Based on the datatype of the variable, the python interpreter allocates the memory and decides what can be stored in the reserved memory. This makes python a **dynamically-typed** language.\n",
    "> <img src=\"./images/addnl_info.png\" height=40, width=40, align=left> <br>\n",
    "> - If you are familiar with other programming languages like C, C++ or Java it might be tempting to consider variable as just a container to store data. However in Python, you can at best, think of variables as pointers. This is why you can *dynamically* change the type of data that a variable is pointing at."
   ]
  },
  {
   "cell_type": "markdown",
   "metadata": {},
   "source": [
    "### 01 - 01.01 Assigning values to variables\n",
    "One of the main differences between Python and strongly types languages like C++ or Java is the way it deals with the data types. In languages like C++ or Java, every variable must have a unique data type i.e if a variable is of type string it cannot store integers or floats. Moreover every variable has to be declared before it can be used, thus binding it to the data type that can be stored in it. Python variables do not need explicit declaration to reserve memory space. The declaration happens automatically when a value is assigned to a variable. This means that a variable that was used to store a string can now be used to store an integer. Try it out. Do something like this:"
   ]
  },
  {
   "cell_type": "code",
   "execution_count": null,
   "metadata": {
    "collapsed": false
   },
   "outputs": [],
   "source": [
    "var = 'I am in NYC'\n",
    "print(var)"
   ]
  },
  {
   "cell_type": "markdown",
   "metadata": {},
   "source": [
    "`var` is a string in the above case. \n",
    "\n",
    "Well.. don't take my word for it. Lets confirm"
   ]
  },
  {
   "cell_type": "code",
   "execution_count": null,
   "metadata": {
    "collapsed": false
   },
   "outputs": [],
   "source": [
    "type(var)"
   ]
  },
  {
   "cell_type": "markdown",
   "metadata": {},
   "source": [
    "[`type`](https://docs.python.org/2/library/functions.html#type) is a built-in function that returns the datatype of anything.. and by anything, I mean absolutely anything (give it a spin!). It is one of the cool things in Python. We will talk about this and many other cool built-in functions in the later chapters. \n",
    "\n",
    "so now if I point our variable `var` to, lets say, an integer.. it will simply work"
   ]
  },
  {
   "cell_type": "code",
   "execution_count": null,
   "metadata": {
    "collapsed": false
   },
   "outputs": [],
   "source": [
    "var = 123\n",
    "type(var)"
   ]
  },
  {
   "cell_type": "markdown",
   "metadata": {},
   "source": [
    "So what are the **rules** of naming a variable?\n",
    "\n",
    "Every language has some rules for naming the identifier of variables (aka the variable name). In Python, a valid identifier is a non-empty sequence of characters of any length with:\n",
    "\n",
    "The start of the character can be an underscore \"\\_\" or a capital or lower case letter. However it is generally recommended to use all upper case for global variables and all lower case for local variables.\n",
    "The letters following the first letter can be a digit or a string.\n",
    "Python is a case-sensitive language. Therefore, `var` is not equal to `VAR` or `vAr`.\n",
    "\n",
    "Apart from above restrictions, python keywords cannot be used as identifier names. These are:\n",
    "\n",
    "||||||\n",
    "|:-------|:--------|:---------|:--------|:----|\n",
    "|and     |del      |from      |not      |while|\n",
    "|as      | elif    |global    |or       |with |\n",
    "|assert  | else    | if       |pass     |yield|\n",
    "|break   | except  | import   |print\n",
    "|class   | exec    | in       |raise\n",
    "|continue| finally | is       |return \n",
    "|def     | for     | lambda   |try\n"
   ]
  },
  {
   "cell_type": "markdown",
   "metadata": {},
   "source": [
    "### 01 - 01.02 Multiple Assignment\n",
    "Python allows you to assign a single value to several variables simultaneously. For example:"
   ]
  },
  {
   "cell_type": "code",
   "execution_count": null,
   "metadata": {
    "collapsed": true
   },
   "outputs": [],
   "source": [
    "x = y = z = a = 1"
   ]
  },
  {
   "cell_type": "markdown",
   "metadata": {},
   "source": [
    "or even assign different values to different variables:"
   ]
  },
  {
   "cell_type": "code",
   "execution_count": null,
   "metadata": {
    "collapsed": true
   },
   "outputs": [],
   "source": [
    "x, y, z, a = 'Hello', 'World', 1, 2"
   ]
  },
  {
   "cell_type": "markdown",
   "metadata": {},
   "source": [
    "> Print the above variables"
   ]
  }
 ],
 "metadata": {
  "kernelspec": {
   "display_name": "Python 2",
   "language": "python",
   "name": "python2"
  },
  "language_info": {
   "codemirror_mode": {
    "name": "ipython",
    "version": 2
   },
   "file_extension": ".py",
   "mimetype": "text/x-python",
   "name": "python",
   "nbconvert_exporter": "python",
   "pygments_lexer": "ipython2",
   "version": "2.7.13"
  }
 },
 "nbformat": 4,
 "nbformat_minor": 2
}
