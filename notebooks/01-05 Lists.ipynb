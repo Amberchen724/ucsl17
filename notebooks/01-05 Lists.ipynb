{
 "cells": [
  {
   "cell_type": "markdown",
   "metadata": {
    "deletable": true,
    "editable": true
   },
   "source": [
    "## Data Structures\n",
    "In the previous modules, we learnt about python's built-in 'simple' types. In this module, we will learn about the different ways in which the data of those types can be organized, so that it can be used (algorithmically) efficiently.\n",
    "> we have already covered `str`, `int`, `float`, and `complex`. Here, we will also introduce the remaining two -- `bool` and `None` python's built-in types\n",
    "\n",
    "Python's most basic data structure is the `sequence`. Each element of a sequence is assigned a number known as index number. Different types of sequences in Python are:\n",
    "- `List`\n",
    "- `Tuple`\n",
    "- `Range`\n",
    "- Text sequence types e.g. `str`\n",
    "- Binary sequence types e.g. `bytearray`, `buffer`\n",
    "\n",
    "Python has several built-in data structures (or compound types) that act as containers and hold the other types. They are:\n",
    "- List\n",
    "- Tuples\n",
    "- Sets\n",
    "- Dictionaries\n"
   ]
  },
  {
   "cell_type": "markdown",
   "metadata": {
    "deletable": true,
    "editable": true
   },
   "source": [
    "## 01 - 05 Lists\n",
    "The `list` is the most versatile datatype available in Python which can be written as a `list` of comma-separated values between square brackets. Creating a list is as simple as putting different items separated by comma between square brackets.\n",
    "\n",
    "Example:"
   ]
  },
  {
   "cell_type": "code",
   "execution_count": 1,
   "metadata": {
    "collapsed": false,
    "deletable": true,
    "editable": true
   },
   "outputs": [
    {
     "name": "stdout",
     "output_type": "stream",
     "text": [
      "Contents of my_list: ['Python', 'Julia', 1, 3.1415].\n",
      "Type: <type 'list'>\n"
     ]
    }
   ],
   "source": [
    "# Notice the mix data types\n",
    "my_list = ['Python', 'Julia', 1, 3.1415]\n",
    "print(\"Contents of my_list: {}.\\nType: {}\".format(my_list, type(my_list)))"
   ]
  },
  {
   "cell_type": "markdown",
   "metadata": {
    "deletable": true,
    "editable": true
   },
   "source": [
    "> `\\n` is the escape character for line break\n",
    "\n",
    "Python is zero-index based, thus to get the first item we simply ask for the item/ element on the 0th index."
   ]
  },
  {
   "cell_type": "code",
   "execution_count": 2,
   "metadata": {
    "collapsed": false,
    "deletable": true,
    "editable": true
   },
   "outputs": [
    {
     "data": {
      "text/plain": [
       "'Python'"
      ]
     },
     "execution_count": 2,
     "metadata": {},
     "output_type": "execute_result"
    }
   ],
   "source": [
    "my_list[0]"
   ]
  },
  {
   "cell_type": "markdown",
   "metadata": {
    "deletable": true,
    "editable": true
   },
   "source": [
    "We will now briefly go over the basic list manipulations (which are similar to strings) and then look at some more methods that makes lists unique.\n",
    "\n",
    "#### .. 05.01 Slicing the List\n",
    "\n",
    "A shallow copy of the list is performed and a new list is created containing the requested elements.\n",
    "\n",
    "Example:"
   ]
  },
  {
   "cell_type": "code",
   "execution_count": 3,
   "metadata": {
    "collapsed": false,
    "deletable": true,
    "editable": true
   },
   "outputs": [
    {
     "data": {
      "text/plain": [
       "['Python', 'Julia']"
      ]
     },
     "execution_count": 3,
     "metadata": {},
     "output_type": "execute_result"
    }
   ],
   "source": [
    "my_list = ['Python', 'Julia', 1, 3.1415]\n",
    "# Performs shallow copy and returns a **new** list with first two elements\n",
    "my_list[:2] # [:2] means between start=0 and stop=2 index values (excluding stop)"
   ]
  },
  {
   "cell_type": "markdown",
   "metadata": {
    "deletable": true,
    "editable": true
   },
   "source": [
    "The slicing can also  be done to get the **n-th** value from a list by passing n as the third argument."
   ]
  },
  {
   "cell_type": "code",
   "execution_count": 4,
   "metadata": {
    "collapsed": false,
    "deletable": true,
    "editable": true
   },
   "outputs": [
    {
     "data": {
      "text/plain": [
       "['Julia', 3.1415]"
      ]
     },
     "execution_count": 4,
     "metadata": {},
     "output_type": "execute_result"
    }
   ],
   "source": [
    "my_list[1::2]"
   ]
  },
  {
   "cell_type": "code",
   "execution_count": 5,
   "metadata": {
    "collapsed": false,
    "deletable": true,
    "editable": true
   },
   "outputs": [
    {
     "data": {
      "text/plain": [
       "['Julia']"
      ]
     },
     "execution_count": 5,
     "metadata": {},
     "output_type": "execute_result"
    }
   ],
   "source": [
    "# Remember, it doesn't include the nth index value when traversing a list.\n",
    "my_list[-3:-2:1]  # Take every element between index value -3 and -2"
   ]
  },
  {
   "cell_type": "markdown",
   "metadata": {
    "deletable": true,
    "editable": true
   },
   "source": [
    "#### .. 05.02 Updating the List\n",
    "\n",
    "Unlike strings and tuples which are immutable, elements in list can be changed without having to create a new list, thus making it mutable.\n",
    "\n",
    "Example:"
   ]
  },
  {
   "cell_type": "code",
   "execution_count": 6,
   "metadata": {
    "collapsed": false,
    "deletable": true,
    "editable": true
   },
   "outputs": [
    {
     "name": "stdout",
     "output_type": "stream",
     "text": [
      "('Original Contents: \\n', ['Python', 'Julia', 'Java', 3.1415])\n",
      "('Original Length of array: \\n', 4)\n",
      "('Modified Contents: \\n', ['Python', 'Julia'])\n",
      "('Modified Length of array: \\n', 2)\n"
     ]
    }
   ],
   "source": [
    "my_list = ['Python', 'Julia', 1, 3.1415]\n",
    "my_list[2] = 'Java'\n",
    "print('Original Contents: \\n', my_list)\n",
    "print('Original Length of array: \\n', len(my_list))\n",
    "# Remove some elements/ changing the size\n",
    "my_list[2:4] = []\n",
    "print('Modified Contents: \\n', my_list)\n",
    "print('Modified Length of array: \\n', len(my_list))"
   ]
  },
  {
   "cell_type": "markdown",
   "metadata": {
    "deletable": true,
    "editable": true
   },
   "source": [
    "#### .. 05.03 Appending to the List\n",
    "\n",
    "New items can be easily added to the list by using the `append()` method.\n",
    "\n",
    "Example:"
   ]
  },
  {
   "cell_type": "code",
   "execution_count": 7,
   "metadata": {
    "collapsed": false,
    "deletable": true,
    "editable": true
   },
   "outputs": [
    {
     "name": "stdout",
     "output_type": "stream",
     "text": [
      "['Python', 'Julia', 1, 3.1415, 'C++']\n"
     ]
    }
   ],
   "source": [
    "my_list = ['Python', 'Julia', 1, 3.1415]\n",
    "my_list.append('C++') # It will append the item to the end of the list\n",
    "print(my_list)"
   ]
  },
  {
   "cell_type": "markdown",
   "metadata": {
    "deletable": true,
    "editable": true
   },
   "source": [
    "#### .. 05.04 Copying Lists\n",
    "\n",
    "There are many ways to create a copy of the lists in python. Lets take a look at few techniques:\n",
    "##### using copy package\n",
    "\n",
    "copy packages is packaged with the python so you don't have to install it externally to use it. So what is the reason of creating a separate package? From our first week's session on variables, we know that it is very easy to create copy of objects,right? We do know one thing for sure that assignment statements ( '=' ) in python do not copy the objects, they merely create bindings between the target and the object, right? It so happens that for collections that are mutable or contains mutable items, a copy is sometimes needed so that one can change the content of the mutable item without changing the other. There are actually two ways of creating a copy of an object viz: shallow copy and deep copy. In shallow copy, python constructs a new object and then inserts references to into it that are found in the original list, whereas deepcopy, as you must've guessed it, creates an object and copies everything. (If you are curious to know more about it, head over the [`official documentation`](https://docs.python.org/3.4/library/copy.html) )"
   ]
  },
  {
   "cell_type": "code",
   "execution_count": 8,
   "metadata": {
    "collapsed": true,
    "deletable": true,
    "editable": true
   },
   "outputs": [],
   "source": [
    "import copy\n",
    "my_list  = ['Python', 'Julia', 1, 3.1415]\n",
    "my_list1 = copy.copy(my_list)  # Shallow copy.. Fast\n",
    "my_list2 = copy.deepcopy(my_list)  # Deep copy.. Slower"
   ]
  },
  {
   "cell_type": "markdown",
   "metadata": {
    "deletable": true,
    "editable": true
   },
   "source": [
    "##### using slice"
   ]
  },
  {
   "cell_type": "code",
   "execution_count": 9,
   "metadata": {
    "collapsed": false,
    "deletable": true,
    "editable": true
   },
   "outputs": [
    {
     "name": "stdout",
     "output_type": "stream",
     "text": [
      "['Python', 'Julia']\n"
     ]
    }
   ],
   "source": [
    "my_list = ['Python', 'Julia', 1, 3.1415]\n",
    "my_list1 = my_list[:2]\n",
    "print(my_list1)"
   ]
  },
  {
   "cell_type": "markdown",
   "metadata": {
    "deletable": true,
    "editable": true
   },
   "source": [
    "##### using list constructor"
   ]
  },
  {
   "cell_type": "code",
   "execution_count": 10,
   "metadata": {
    "collapsed": false,
    "deletable": true,
    "editable": true
   },
   "outputs": [
    {
     "name": "stdout",
     "output_type": "stream",
     "text": [
      "['Python', 'Julia', 1, 3.1415]\n"
     ]
    }
   ],
   "source": [
    "my_list = ['Python', 'Julia', 1, 3.1415]\n",
    "# when list method takes a list as a parameter, it creates a copy of that list\n",
    "my_list1 = list(my_list)\n",
    "print(my_list1)"
   ]
  },
  {
   "cell_type": "markdown",
   "metadata": {
    "deletable": true,
    "editable": true
   },
   "source": [
    "#### .. 05.05 Delete List Elements\n",
    "To remove the list elements, one has two options to either use del statement or lists's remove method ( will be discussed later ).\n",
    "\n",
    "Example:"
   ]
  },
  {
   "cell_type": "code",
   "execution_count": 11,
   "metadata": {
    "collapsed": false,
    "deletable": true,
    "editable": true
   },
   "outputs": [
    {
     "data": {
      "text/plain": [
       "[1, 2, 3, 4]"
      ]
     },
     "execution_count": 11,
     "metadata": {},
     "output_type": "execute_result"
    }
   ],
   "source": [
    "my_list = [1, 2, 3, 4, 5]\n",
    "del(my_list[4])\n",
    "my_list"
   ]
  },
  {
   "cell_type": "markdown",
   "metadata": {
    "deletable": true,
    "editable": true
   },
   "source": [
    "#### .. 05.06 Nested Lists\n",
    "It is also possible to create a list of the lists.\n",
    "\n",
    "Example:"
   ]
  },
  {
   "cell_type": "code",
   "execution_count": 12,
   "metadata": {
    "collapsed": false,
    "deletable": true,
    "editable": true
   },
   "outputs": [
    {
     "data": {
      "text/plain": [
       "[[1, 2, 3, 4, 5], ['a', 'b', 'c', 'd', 'e']]"
      ]
     },
     "execution_count": 12,
     "metadata": {},
     "output_type": "execute_result"
    }
   ],
   "source": [
    "my_list1 = [1, 2, 3, 4, 5]\n",
    "my_list2 = ['a', 'b', 'c', 'd', 'e']\n",
    "my_list3 = [my_list1, my_list2]\n",
    "my_list3"
   ]
  },
  {
   "cell_type": "markdown",
   "metadata": {
    "deletable": true,
    "editable": true
   },
   "source": [
    "#### .. 05.07 List Concatenation, Repetition, Membership:\n",
    "\n",
    "These are simple list manipulation methods similar to strings. Take a look at following example:"
   ]
  },
  {
   "cell_type": "code",
   "execution_count": 13,
   "metadata": {
    "collapsed": false,
    "deletable": true,
    "editable": true
   },
   "outputs": [
    {
     "data": {
      "text/plain": [
       "[1, 2, 3, 4, 5, 'a', 'b', 'c', 'd', 'e']"
      ]
     },
     "execution_count": 13,
     "metadata": {},
     "output_type": "execute_result"
    }
   ],
   "source": [
    "my_list1 = [1, 2, 3, 4, 5]\n",
    "my_list2 = ['a', 'b', 'c', 'd', 'e']\n",
    "my_list1 + my_list2  # List Concatenation"
   ]
  },
  {
   "cell_type": "code",
   "execution_count": 14,
   "metadata": {
    "collapsed": false,
    "deletable": true,
    "editable": true
   },
   "outputs": [
    {
     "data": {
      "text/plain": [
       "[1, 2, 3, 4, 5, 1, 2, 3, 4, 5]"
      ]
     },
     "execution_count": 14,
     "metadata": {},
     "output_type": "execute_result"
    }
   ],
   "source": [
    "# List Repition\n",
    "my_list1 * 2"
   ]
  },
  {
   "cell_type": "code",
   "execution_count": 15,
   "metadata": {
    "collapsed": false,
    "deletable": true,
    "editable": true
   },
   "outputs": [
    {
     "data": {
      "text/plain": [
       "True"
      ]
     },
     "execution_count": 15,
     "metadata": {},
     "output_type": "execute_result"
    }
   ],
   "source": [
    "# Membership operator, returns true if member of list\n",
    "3 in my_list1"
   ]
  },
  {
   "cell_type": "markdown",
   "metadata": {
    "deletable": true,
    "editable": true
   },
   "source": [
    "#### .. 05.08 Traversing a list:\n",
    "\n",
    "The most straightforward way to traverse a list is using loops:\n",
    "> We will look at loops in detail in loops module\n",
    "\n",
    "##### for loop:\n",
    "Example:"
   ]
  },
  {
   "cell_type": "code",
   "execution_count": 16,
   "metadata": {
    "collapsed": false,
    "deletable": true,
    "editable": true
   },
   "outputs": [
    {
     "name": "stdout",
     "output_type": "stream",
     "text": [
      "1\n",
      "2\n",
      "3\n",
      "4\n",
      "5\n"
     ]
    }
   ],
   "source": [
    "my_list = [1, 2, 3, 4, 5]\n",
    "for element in my_list:\n",
    "    print(element)"
   ]
  },
  {
   "cell_type": "markdown",
   "metadata": {
    "deletable": true,
    "editable": true
   },
   "source": [
    "Lets traverse using the index numbers\n",
    "\n",
    "Example:"
   ]
  },
  {
   "cell_type": "code",
   "execution_count": 17,
   "metadata": {
    "collapsed": false,
    "deletable": true,
    "editable": true
   },
   "outputs": [
    {
     "name": "stdout",
     "output_type": "stream",
     "text": [
      "my_list[0] : 1\n",
      "my_list[1] : 2\n",
      "my_list[2] : 3\n",
      "my_list[3] : 4\n",
      "my_list[4] : 5\n"
     ]
    }
   ],
   "source": [
    "for index in range(len(my_list)): # start from 0 and go till the length of the list.\n",
    "    print(\"my_list[{}] : {}\".format(index, my_list[index]))"
   ]
  },
  {
   "cell_type": "markdown",
   "metadata": {
    "deletable": true,
    "editable": true
   },
   "source": [
    "##### While loop:\n",
    "Just like for loop, we can traverse the list based on its index numbers (again, we'll learn about loops in next module):\n",
    "\n",
    "Example:"
   ]
  },
  {
   "cell_type": "code",
   "execution_count": 18,
   "metadata": {
    "collapsed": false,
    "deletable": true,
    "editable": true
   },
   "outputs": [
    {
     "name": "stdout",
     "output_type": "stream",
     "text": [
      "my_list[0] : 1\n",
      "my_list[1] : 2\n",
      "my_list[2] : 3\n",
      "my_list[3] : 4\n",
      "my_list[4] : 5\n"
     ]
    }
   ],
   "source": [
    "index = 0\n",
    "# till index is less than length of list\n",
    "while index < len(my_list):\n",
    "    print(\"my_list[{}] : {}\".format(index, my_list[index]))\n",
    "    # increment index by 1 at every iteration\n",
    "    index += 1"
   ]
  },
  {
   "cell_type": "markdown",
   "metadata": {
    "deletable": true,
    "editable": true
   },
   "source": [
    "#### .. 05.09 enumerate( )\n",
    "Python has a built-in method called enumerate which returns both index value and value of list ( or any other iterable object).\n",
    "\n",
    "Example:"
   ]
  },
  {
   "cell_type": "code",
   "execution_count": 19,
   "metadata": {
    "collapsed": false,
    "deletable": true,
    "editable": true
   },
   "outputs": [
    {
     "name": "stdout",
     "output_type": "stream",
     "text": [
      "my_list[0] : 1\n",
      "my_list[1] : 2\n",
      "my_list[2] : 3\n",
      "my_list[3] : 4\n",
      "my_list[4] : 5\n"
     ]
    }
   ],
   "source": [
    "for ind, val in enumerate(my_list):\n",
    "    print(\"my_list[{}] : {}\".format(ind, val))"
   ]
  },
  {
   "cell_type": "markdown",
   "metadata": {
    "deletable": true,
    "editable": true
   },
   "source": [
    "#### 05.10 List Comprehension\n",
    "List comprehension is a syntactic way of creating a list based on the existing list, just like we did in copying the lists above. \n",
    "The basic structure of the syntax includes a for loop that traverses the list and evaluates a condition using if.. else condition and stores the output of the condition as a new list. Lets take a look at a quick example.\n",
    "\n",
    "Example:"
   ]
  },
  {
   "cell_type": "code",
   "execution_count": 20,
   "metadata": {
    "collapsed": false,
    "deletable": true,
    "editable": true
   },
   "outputs": [
    {
     "name": "stdout",
     "output_type": "stream",
     "text": [
      "[2, 4]\n"
     ]
    }
   ],
   "source": [
    "my_list1 = [elem for elem in my_list if elem % 2 == 0]\n",
    "print(my_list1)"
   ]
  },
  {
   "cell_type": "markdown",
   "metadata": {
    "deletable": true,
    "editable": true
   },
   "source": [
    "We simply create a list `my_list1` from the elements in `my_list` that are completely divisible by 2.\n",
    "\n",
    "There are many ways in which the list comprehension can be used. It is just a shorthand of writing better readable code."
   ]
  },
  {
   "cell_type": "markdown",
   "metadata": {
    "deletable": true,
    "editable": true
   },
   "source": [
    "#### 05.11 Built- in List Functions and Methods:\n",
    "\n",
    "Python provides following methods for lists:\n",
    "\n",
    "##### max:\n",
    "\n",
    "This method returns the elements from the list with maximum value.\n",
    "\n",
    "Example:"
   ]
  },
  {
   "cell_type": "code",
   "execution_count": 21,
   "metadata": {
    "collapsed": false,
    "deletable": true,
    "editable": true
   },
   "outputs": [
    {
     "data": {
      "text/plain": [
       "3"
      ]
     },
     "execution_count": 21,
     "metadata": {},
     "output_type": "execute_result"
    }
   ],
   "source": [
    "my_list1 = [1, 2, 3]\n",
    "max(my_list1)"
   ]
  },
  {
   "cell_type": "markdown",
   "metadata": {
    "deletable": true,
    "editable": true
   },
   "source": [
    "> What do you think will happen if we compare a list of the lists (nested list)?"
   ]
  },
  {
   "cell_type": "markdown",
   "metadata": {
    "deletable": true,
    "editable": true
   },
   "source": [
    "##### min:\n",
    "\n",
    "This method returns the element from the list with minimum value."
   ]
  },
  {
   "cell_type": "code",
   "execution_count": 22,
   "metadata": {
    "collapsed": false,
    "deletable": true,
    "editable": true
   },
   "outputs": [
    {
     "data": {
      "text/plain": [
       "1"
      ]
     },
     "execution_count": 22,
     "metadata": {},
     "output_type": "execute_result"
    }
   ],
   "source": [
    "min(my_list)"
   ]
  },
  {
   "cell_type": "markdown",
   "metadata": {
    "deletable": true,
    "editable": true
   },
   "source": [
    "##### list:\n",
    "\n",
    "This method takes sequence types and converts them to lists. This is also used to convert a tuple to list.\n",
    "\n",
    "Example:"
   ]
  },
  {
   "cell_type": "code",
   "execution_count": 23,
   "metadata": {
    "collapsed": false,
    "deletable": true,
    "editable": true
   },
   "outputs": [
    {
     "data": {
      "text/plain": [
       "['Python', 'Julia', 1, 3.1415]"
      ]
     },
     "execution_count": 23,
     "metadata": {},
     "output_type": "execute_result"
    }
   ],
   "source": [
    "my_list = list(('Python', 'Julia', 1, 3.1415))  # iterable as a tuple\n",
    "my_list"
   ]
  },
  {
   "cell_type": "markdown",
   "metadata": {
    "deletable": true,
    "editable": true
   },
   "source": [
    "The above line might be a little confusing. `list` is a built-in function which can either create an empty list if it is called with no parameters, or create a new list of the iterable/ sequence that it is given as an input. That means that list can at most 1 argument. Thus we have to put our elements in a circular bracket (which makes it a `tuple`, btw) and then pass it as an argument to list method. \n",
    "\n",
    "##### list.count(obj):\n",
    "This method returns the number of times the object, that is passed as a parameter, occurs in the list.\n",
    "\n",
    "Example:"
   ]
  },
  {
   "cell_type": "code",
   "execution_count": 24,
   "metadata": {
    "collapsed": false,
    "deletable": true,
    "editable": true
   },
   "outputs": [
    {
     "data": {
      "text/plain": [
       "1"
      ]
     },
     "execution_count": 24,
     "metadata": {},
     "output_type": "execute_result"
    }
   ],
   "source": [
    "my_list = ['Python', 'Julia', 1, 3.1415]\n",
    "my_list.count('Python')"
   ]
  },
  {
   "cell_type": "markdown",
   "metadata": {
    "deletable": true,
    "editable": true
   },
   "source": [
    "##### list.extend(seq):\n",
    "This method appends the contents of a sequence to a list.\n",
    "> Equivalent operation using slicing -- `my_list1[len(my_list1):] = my_list2` and print `my_list1`."
   ]
  },
  {
   "cell_type": "code",
   "execution_count": 25,
   "metadata": {
    "collapsed": false,
    "deletable": true,
    "editable": true
   },
   "outputs": [
    {
     "name": "stdout",
     "output_type": "stream",
     "text": [
      "['Python', 'Julia', 1, 3.1415, 'C++', 'Java', 2, 2.7182]\n"
     ]
    }
   ],
   "source": [
    "my_list1 = ['Python', 'Julia', 1, 3.1415]\n",
    "my_list2 = ['C++', 'Java', 2, 2.7182]\n",
    "my_list1.extend(my_list2)\n",
    "print(my_list1)"
   ]
  },
  {
   "cell_type": "markdown",
   "metadata": {
    "deletable": true,
    "editable": true
   },
   "source": [
    "##### list.index(obj):\n",
    "\n",
    "This method returns the lowest index in the list that object appears."
   ]
  },
  {
   "cell_type": "code",
   "execution_count": 26,
   "metadata": {
    "collapsed": false,
    "deletable": true,
    "editable": true
   },
   "outputs": [
    {
     "data": {
      "text/plain": [
       "1"
      ]
     },
     "execution_count": 26,
     "metadata": {},
     "output_type": "execute_result"
    }
   ],
   "source": [
    "my_list = ['Python', 'Julia', 1, 3.1415]\n",
    "my_list.index('Julia')"
   ]
  },
  {
   "cell_type": "markdown",
   "metadata": {
    "deletable": true,
    "editable": true
   },
   "source": [
    "##### list.insert(index, obj):\n",
    "\n",
    "This method is used to insert the object at the offset index."
   ]
  },
  {
   "cell_type": "code",
   "execution_count": 27,
   "metadata": {
    "collapsed": false,
    "deletable": true,
    "editable": true
   },
   "outputs": [
    {
     "name": "stdout",
     "output_type": "stream",
     "text": [
      "['Python', 'Julia', 1, 2.7182, 3.1415]\n"
     ]
    }
   ],
   "source": [
    "my_list = ['Python', 'Julia', 1, 3.1415]\n",
    "my_list.insert(3, 2.7182)\n",
    "print(my_list)"
   ]
  },
  {
   "cell_type": "markdown",
   "metadata": {
    "collapsed": true,
    "deletable": true,
    "editable": true
   },
   "source": [
    "##### list.pop(obj = list[-1]):\n",
    "\n",
    "This method removes and returns the removed object from the list. If you don't pass the argument to the function, it will by default `pop` the last element from the list"
   ]
  },
  {
   "cell_type": "code",
   "execution_count": 28,
   "metadata": {
    "collapsed": false,
    "deletable": true,
    "editable": true
   },
   "outputs": [
    {
     "data": {
      "text/plain": [
       "'Julia'"
      ]
     },
     "execution_count": 28,
     "metadata": {},
     "output_type": "execute_result"
    }
   ],
   "source": [
    "my_list = ['Python', 'Julia', 1, 3.1415]\n",
    "# pop the last element\n",
    "my_list.pop(1)"
   ]
  },
  {
   "cell_type": "markdown",
   "metadata": {
    "deletable": true,
    "editable": true
   },
   "source": [
    "##### list.remove(obj):\n",
    "\n",
    "This method is used to remove the object from the list. The `object` to be removed should be passed as an argument to the function. Unlike pop, this does not return anything."
   ]
  },
  {
   "cell_type": "code",
   "execution_count": 29,
   "metadata": {
    "collapsed": false,
    "deletable": true,
    "editable": true
   },
   "outputs": [
    {
     "name": "stdout",
     "output_type": "stream",
     "text": [
      "['Python', 1, 3.1415]\n"
     ]
    }
   ],
   "source": [
    "my_list = ['Python', 'Julia', 1, 3.1415]\n",
    "my_list.remove('Julia')\n",
    "print(my_list)"
   ]
  },
  {
   "cell_type": "markdown",
   "metadata": {
    "deletable": true,
    "editable": true
   },
   "source": [
    "##### list.reverse():\n",
    "\n",
    "This method reverses the objects of list in place"
   ]
  },
  {
   "cell_type": "code",
   "execution_count": 30,
   "metadata": {
    "collapsed": false,
    "deletable": true,
    "editable": true
   },
   "outputs": [
    {
     "name": "stdout",
     "output_type": "stream",
     "text": [
      "[3.1415, 1, 'Julia', 'Python']\n"
     ]
    }
   ],
   "source": [
    "my_list = ['Python', 'Julia', 1, 3.1415]\n",
    "my_list.reverse()\n",
    "print(my_list)"
   ]
  },
  {
   "cell_type": "markdown",
   "metadata": {
    "deletable": true,
    "editable": true
   },
   "source": [
    "##### list.sort([func]):\n",
    "\n",
    "This method sorts objects of list by using the compare function passed as optional parameter. You can also sort the string in reverse by passing the optional parameter `reverse=True`"
   ]
  },
  {
   "cell_type": "code",
   "execution_count": 31,
   "metadata": {
    "collapsed": false,
    "deletable": true,
    "editable": true
   },
   "outputs": [
    {
     "name": "stdout",
     "output_type": "stream",
     "text": [
      "('Sorted:         ', [1, 2, 6, 7, 9])\n",
      "('Reverse Sorted: ', [9, 7, 6, 2, 1])\n"
     ]
    }
   ],
   "source": [
    "my_list = [7, 6, 1, 9, 2]\n",
    "my_list.sort()\n",
    "print(\"Sorted:         \", my_list)\n",
    "my_list.sort(reverse=True)\n",
    "print(\"Reverse Sorted: \", my_list)"
   ]
  },
  {
   "cell_type": "markdown",
   "metadata": {
    "deletable": true,
    "editable": true
   },
   "source": [
    "#### .. 05.12 Performance Characteristics:\n",
    "\n",
    "The list has following performance characteristics:\n",
    "\n",
    "- The list object stores pointers to objects, not the actual objects themselves. The size of a list in memory depends on the number of objects in the list, not the size of the objects.\n",
    "- The time needed to get or set an individual item is constant, no matter what the size of the list is (also known as “`O(1)`” behaviour).\n",
    "- The time needed to append an item to the list is “amortized constant”; whenever the list needs to allocate more memory, it allocates room for a few items more than it actually needs, to avoid having to reallocate on each call (this assumes that the memory allocator is fast; for huge lists, the allocation overhead may push the behaviour towards `O(n\\*n)`).\n",
    "- The time needed to insert an item depends on the size of the list, or more exactly, how many items that are to the right of the inserted item (`O(n)`). In other words, inserting items at the end is fast, but inserting items at the beginning can be relatively slow, if the list is large.\n",
    "- The time needed to remove an item is about the same as the time needed to insert an item at the same location; removing items at the end is fast, removing items at the beginning is slow.\n",
    "- The time needed to reverse a list is proportional to the list size (`O(n)`).\n",
    "- The time needed to sort a list varies; the worst case is `O(n log n)`, but typical cases are often a lot better than that."
   ]
  }
 ],
 "metadata": {
  "kernelspec": {
   "display_name": "Python 3",
   "language": "python",
   "name": "python3"
  },
  "language_info": {
   "codemirror_mode": {
    "name": "ipython",
    "version": 3
   },
   "file_extension": ".py",
   "mimetype": "text/x-python",
   "name": "python",
   "nbconvert_exporter": "python",
   "pygments_lexer": "ipython3",
   "version": "3.6.1"
  }
 },
 "nbformat": 4,
 "nbformat_minor": 2
}
