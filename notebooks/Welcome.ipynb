{
 "cells": [
  {
   "cell_type": "markdown",
   "metadata": {},
   "source": [
    "# Welcome"
   ]
  },
  {
   "cell_type": "markdown",
   "metadata": {},
   "source": [
    "Welcome to __U__rban __C__omputing __S__kills __L__ab. This course is a pre-requisite for your Masters program in Applied Urban Science and Informatics, which immediately begs the question: what is Urban Science? It is actually hard to define Urban Science especially given how ubiquitous the term has become. In my mind, Urban Science is an emerging domain of research at the intersection of interdisciplinary sciences that seeks to exploit the large-scale data, from a variety of sources, to understand and address urban challenges. \n",
    "\n",
    "With this in mind, I would encourage you to think of Urban informatics not as a new domain of knowledge to learn, but a new set of skills that you can apply within your current area of expertise. By the end of this bootcamp, I hope to:\n",
    "- Get you familiar with Python programming language (that will be used throughout your Masters course)\n",
    "- Introduce you to scientific tools for performing data analysis\n",
    "- Exemplify efficient way of storing and visualizing the data\n",
    "- Give you a demo hands-on experience for developing solutions in real-world"
   ]
  },
  {
   "cell_type": "markdown",
   "metadata": {},
   "source": [
    "# Target Audience"
   ]
  },
  {
   "cell_type": "markdown",
   "metadata": {},
   "source": [
    "UCSL bootcamp was an answer to the most common student question -- \"How should I learn Python?\". However, slowly we realized the folks didn't want to learn Python \"programming\" _per se_ but wanted to learn it as a tool for performing data analysis and visualization.\n",
    "\n",
    "This bootcamp has been modified and customized to use Python and its powerful data science ecosystem __as a tool for data-intensive and computational science__. Thus, this Lab in no way aims to be a comprehensive introduction to Python or programming language in general. We will brush over the Python's syntax, Built-in Types and Datastructures, control flow statements and functions before jumping into the scientific modules that we use for performing data analysis<br/>\n",
    "\n",
    "The goal is to create a basic understanding about the language that you will be using as a tool to explore the data science stack which includes modules like Numpy, Matplotlib and Pandas. As such this Lab does not expect you to have any prior experience with using Python language or performing data analysis."
   ]
  },
  {
   "cell_type": "markdown",
   "metadata": {},
   "source": [
    "# Using this Lab"
   ]
  },
  {
   "cell_type": "markdown",
   "metadata": {},
   "source": [
    "The lab requires Python and scientific packages installed. To make things easier, NYU CUSP has set up an environment where you can login with your net id & password and use the packages. \n",
    "\n",
    "[Setting up your environment](./Setting_up_your_environment.ipynb) has options for `Using CUSP Data Facility` and `Setting up Locally`\n",
    "\n",
    "It is highly advised to use the CUSP Data Facility for reading/ executing the course content and for all your homework assignments.\n",
    "However if you would like to install everything locally on your machine (which I would highly refrain from, unless you know what you are doing) you can follow `Setting up Locally` section."
   ]
  }
 ],
 "metadata": {
  "kernelspec": {
   "display_name": "Python 3",
   "language": "python",
   "name": "python3"
  },
  "language_info": {
   "codemirror_mode": {
    "name": "ipython",
    "version": 3
   },
   "file_extension": ".py",
   "mimetype": "text/x-python",
   "name": "python",
   "nbconvert_exporter": "python",
   "pygments_lexer": "ipython3",
   "version": "3.5.2"
  }
 },
 "nbformat": 4,
 "nbformat_minor": 1
}
