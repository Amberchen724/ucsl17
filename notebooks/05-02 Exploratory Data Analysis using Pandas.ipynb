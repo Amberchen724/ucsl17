{
 "cells": [
  {
   "cell_type": "markdown",
   "metadata": {},
   "source": [
    "## 05 - 02 Exploratory Data Analysis using Pandas\n",
    "Based on the concepts that we have built in the last couple of modules, we will explore the imdb dataset but before we do that, let's first look at ways of loading the datasets as pandas dataframe.\n",
    "\n",
    "### 05 - 02.01 Loading Data\n",
    "You can read data from a CSV file using the read_csv function. By default, it assumes that the fields are comma-separated.\n",
    "Pandas supports following file formats:\n",
    "\n",
    "|Function| Description|\n",
    "|:---|:---|\n",
    "|read_csv | Load delimited data from a file, URL, or file-like object. Use comma as default delimiter|\n",
    "|read_table | Load delimited data from a file, URL, or file-like object. Use tab ('\\t') as default delimiter|\n",
    "|read_fwf | Read data in fixed-width column format (that is, no delimiters)|\n",
    "|read_clipboard | Version of read_table that reads data from the clipboard. Useful for converting tables from web pages.|\n",
    "\n",
    "For most of the analysis work, you will be loading the csv, tsv or some delimited files. We will only look at `read_csv` function in this example.\n"
   ]
  },
  {
   "cell_type": "code",
   "execution_count": 4,
   "metadata": {
    "collapsed": true
   },
   "outputs": [],
   "source": [
    "import pandas as pd\n",
    "import numpy as np\n",
    "%matplotlib inline\n",
    "import matplotlib.pyplot as plt\n",
    "plt.style.use('seaborn-darkgrid')"
   ]
  },
  {
   "cell_type": "markdown",
   "metadata": {},
   "source": [
    ">Lets load the cast, release-dates and titles dataset.\n",
    "\n",
    "> This might take sometime."
   ]
  },
  {
   "cell_type": "code",
   "execution_count": 5,
   "metadata": {},
   "outputs": [
    {
     "name": "stdout",
     "output_type": "stream",
     "text": [
      "CPU times: user 6.27 s, sys: 778 ms, total: 7.05 s\n",
      "Wall time: 7.13 s\n"
     ]
    }
   ],
   "source": [
    "%%time\n",
    "cast = pd.DataFrame.from_csv('./sample_datasets/cast.csv', index_col=None)\n",
    "release_dates = pd.read_csv('./sample_datasets/release_dates.csv', index_col=None,\n",
    "                            parse_dates=['date'], infer_datetime_format=True)\n",
    "titles = pd.DataFrame.from_csv('./sample_datasets/titles.csv', index_col=None)"
   ]
  },
  {
   "cell_type": "markdown",
   "metadata": {},
   "source": [
    "Lets look at some of the contents of these dataframes"
   ]
  },
  {
   "cell_type": "code",
   "execution_count": 9,
   "metadata": {},
   "outputs": [
    {
     "data": {
      "text/html": [
       "<div>\n",
       "<table border=\"1\" class=\"dataframe\">\n",
       "  <thead>\n",
       "    <tr style=\"text-align: right;\">\n",
       "      <th></th>\n",
       "      <th>title</th>\n",
       "      <th>year</th>\n",
       "      <th>name</th>\n",
       "      <th>type</th>\n",
       "      <th>character</th>\n",
       "      <th>n</th>\n",
       "    </tr>\n",
       "  </thead>\n",
       "  <tbody>\n",
       "    <tr>\n",
       "      <th>0</th>\n",
       "      <td>Closet Monster</td>\n",
       "      <td>2015</td>\n",
       "      <td>Buffy #1</td>\n",
       "      <td>actor</td>\n",
       "      <td>Buffy 4</td>\n",
       "      <td>31.0</td>\n",
       "    </tr>\n",
       "    <tr>\n",
       "      <th>1</th>\n",
       "      <td>Suuri illusioni</td>\n",
       "      <td>1985</td>\n",
       "      <td>Homo $</td>\n",
       "      <td>actor</td>\n",
       "      <td>Guests</td>\n",
       "      <td>22.0</td>\n",
       "    </tr>\n",
       "    <tr>\n",
       "      <th>2</th>\n",
       "      <td>Battle of the Sexes</td>\n",
       "      <td>2017</td>\n",
       "      <td>$hutter</td>\n",
       "      <td>actor</td>\n",
       "      <td>Bobby Riggs Fan</td>\n",
       "      <td>10.0</td>\n",
       "    </tr>\n",
       "    <tr>\n",
       "      <th>3</th>\n",
       "      <td>Secret in Their Eyes</td>\n",
       "      <td>2015</td>\n",
       "      <td>$hutter</td>\n",
       "      <td>actor</td>\n",
       "      <td>2002 Dodger Fan</td>\n",
       "      <td>NaN</td>\n",
       "    </tr>\n",
       "    <tr>\n",
       "      <th>4</th>\n",
       "      <td>Steve Jobs</td>\n",
       "      <td>2015</td>\n",
       "      <td>$hutter</td>\n",
       "      <td>actor</td>\n",
       "      <td>1988 Opera House Patron</td>\n",
       "      <td>NaN</td>\n",
       "    </tr>\n",
       "  </tbody>\n",
       "</table>\n",
       "</div>"
      ],
      "text/plain": [
       "                  title  year      name   type                character     n\n",
       "0        Closet Monster  2015  Buffy #1  actor                  Buffy 4  31.0\n",
       "1       Suuri illusioni  1985    Homo $  actor                   Guests  22.0\n",
       "2   Battle of the Sexes  2017   $hutter  actor          Bobby Riggs Fan  10.0\n",
       "3  Secret in Their Eyes  2015   $hutter  actor          2002 Dodger Fan   NaN\n",
       "4            Steve Jobs  2015   $hutter  actor  1988 Opera House Patron   NaN"
      ]
     },
     "execution_count": 9,
     "metadata": {},
     "output_type": "execute_result"
    }
   ],
   "source": [
    "cast.head()"
   ]
  },
  {
   "cell_type": "markdown",
   "metadata": {},
   "source": [
    "> The `n` in the cast dataframe tells us the rank or the order of the leading roles."
   ]
  },
  {
   "cell_type": "code",
   "execution_count": 11,
   "metadata": {},
   "outputs": [
    {
     "data": {
      "text/html": [
       "<div>\n",
       "<table border=\"1\" class=\"dataframe\">\n",
       "  <thead>\n",
       "    <tr style=\"text-align: right;\">\n",
       "      <th></th>\n",
       "      <th>title</th>\n",
       "      <th>year</th>\n",
       "      <th>country</th>\n",
       "      <th>date</th>\n",
       "    </tr>\n",
       "  </thead>\n",
       "  <tbody>\n",
       "    <tr>\n",
       "      <th>0</th>\n",
       "      <td>#73, Shaanthi Nivaasa</td>\n",
       "      <td>2007</td>\n",
       "      <td>India</td>\n",
       "      <td>2007-06-15</td>\n",
       "    </tr>\n",
       "    <tr>\n",
       "      <th>1</th>\n",
       "      <td>#Beings</td>\n",
       "      <td>2015</td>\n",
       "      <td>Romania</td>\n",
       "      <td>2015-01-29</td>\n",
       "    </tr>\n",
       "    <tr>\n",
       "      <th>2</th>\n",
       "      <td>#Ewankosau saranghaeyo</td>\n",
       "      <td>2015</td>\n",
       "      <td>Philippines</td>\n",
       "      <td>2015-01-21</td>\n",
       "    </tr>\n",
       "    <tr>\n",
       "      <th>3</th>\n",
       "      <td>#Horror</td>\n",
       "      <td>2015</td>\n",
       "      <td>USA</td>\n",
       "      <td>2015-11-20</td>\n",
       "    </tr>\n",
       "    <tr>\n",
       "      <th>4</th>\n",
       "      <td>#Horror</td>\n",
       "      <td>2015</td>\n",
       "      <td>UK</td>\n",
       "      <td>2016-05-16</td>\n",
       "    </tr>\n",
       "  </tbody>\n",
       "</table>\n",
       "</div>"
      ],
      "text/plain": [
       "                    title  year      country       date\n",
       "0   #73, Shaanthi Nivaasa  2007        India 2007-06-15\n",
       "1                 #Beings  2015      Romania 2015-01-29\n",
       "2  #Ewankosau saranghaeyo  2015  Philippines 2015-01-21\n",
       "3                 #Horror  2015          USA 2015-11-20\n",
       "4                 #Horror  2015           UK 2016-05-16"
      ]
     },
     "execution_count": 11,
     "metadata": {},
     "output_type": "execute_result"
    }
   ],
   "source": [
    "release_dates.head()"
   ]
  },
  {
   "cell_type": "code",
   "execution_count": 13,
   "metadata": {},
   "outputs": [
    {
     "data": {
      "text/html": [
       "<div>\n",
       "<table border=\"1\" class=\"dataframe\">\n",
       "  <thead>\n",
       "    <tr style=\"text-align: right;\">\n",
       "      <th></th>\n",
       "      <th>title</th>\n",
       "      <th>year</th>\n",
       "    </tr>\n",
       "  </thead>\n",
       "  <tbody>\n",
       "    <tr>\n",
       "      <th>0</th>\n",
       "      <td>The Rising Son</td>\n",
       "      <td>1990</td>\n",
       "    </tr>\n",
       "    <tr>\n",
       "      <th>1</th>\n",
       "      <td>The Thousand Plane Raid</td>\n",
       "      <td>1969</td>\n",
       "    </tr>\n",
       "    <tr>\n",
       "      <th>2</th>\n",
       "      <td>The Spider and the Fly</td>\n",
       "      <td>1949</td>\n",
       "    </tr>\n",
       "    <tr>\n",
       "      <th>3</th>\n",
       "      <td>Country</td>\n",
       "      <td>2000</td>\n",
       "    </tr>\n",
       "    <tr>\n",
       "      <th>4</th>\n",
       "      <td>Gaiking II</td>\n",
       "      <td>2011</td>\n",
       "    </tr>\n",
       "  </tbody>\n",
       "</table>\n",
       "</div>"
      ],
      "text/plain": [
       "                     title  year\n",
       "0           The Rising Son  1990\n",
       "1  The Thousand Plane Raid  1969\n",
       "2   The Spider and the Fly  1949\n",
       "3                  Country  2000\n",
       "4               Gaiking II  2011"
      ]
     },
     "execution_count": 13,
     "metadata": {},
     "output_type": "execute_result"
    }
   ],
   "source": [
    "titles.head()"
   ]
  },
  {
   "cell_type": "markdown",
   "metadata": {},
   "source": [
    "Do you know how many movies released since you were born?"
   ]
  },
  {
   "cell_type": "code",
   "execution_count": 40,
   "metadata": {},
   "outputs": [
    {
     "data": {
      "text/plain": [
       "113711"
      ]
     },
     "execution_count": 40,
     "metadata": {},
     "output_type": "execute_result"
    }
   ],
   "source": [
    "my_birth_year = 1990\n",
    "len(titles[(titles['year']>my_birth_year) & (titles['year']<2017)])"
   ]
  },
  {
   "cell_type": "markdown",
   "metadata": {},
   "source": [
    "Lets plot how many movies released every year since you were born"
   ]
  },
  {
   "cell_type": "code",
   "execution_count": 55,
   "metadata": {},
   "outputs": [
    {
     "data": {
      "text/plain": [
       "<matplotlib.axes._subplots.AxesSubplot at 0x10ee67240>"
      ]
     },
     "execution_count": 55,
     "metadata": {},
     "output_type": "execute_result"
    },
    {
     "data": {
      "image/png": "[encoded data removed]",
      "text/plain": [
       "<matplotlib.figure.Figure at 0x10ef2d198>"
      ]
     },
     "metadata": {},
     "output_type": "display_data"
    }
   ],
   "source": [
    "titles.groupby('year').size().loc[my_birth_year:2016].plot(title=\"Number of movies released every year\")"
   ]
  },
  {
   "cell_type": "markdown",
   "metadata": {},
   "source": [
    "Pandas provides matplotlib based plotting as a part of dataframe. To plot any dataframe (with *plottable data*) you can simply use `.plot()`.\n",
    "\n",
    "Ofcourse we can also do this manually using matplotlib's pyplot as well (which is actually what pandas uses under the cover)"
   ]
  },
  {
   "cell_type": "code",
   "execution_count": 52,
   "metadata": {},
   "outputs": [
    {
     "data": {
      "text/plain": [
       "(1990, 2016)"
      ]
     },
     "execution_count": 52,
     "metadata": {},
     "output_type": "execute_result"
    },
    {
     "data": {
      "image/png": "[encoded data removed]",
      "text/plain": [
       "<matplotlib.figure.Figure at 0x10bae4d30>"
      ]
     },
     "metadata": {},
     "output_type": "display_data"
    }
   ],
   "source": [
    "fig, ax = plt.subplots()\n",
    "ax.plot(titles.groupby('year').size().loc[my_birth_year:2016])\n",
    "ax.set_xlabel(\"Year\")\n",
    "ax.set_ylabel(\"# of Movies\")\n",
    "ax.set_title(\"Number of movies released every year\")\n",
    "ax.set_xlim(1990, 2016)"
   ]
  },
  {
   "cell_type": "markdown",
   "metadata": {},
   "source": [
    "Hmm.. How about the total number of movies released every decade?\n",
    "\n",
    "This will involve a little math. We know that the `titles` dataframe has a `year` column which, obviously, has the year when a movie was released.\n",
    "\n",
    "To count the occurence of something, we can use the `value_counts` method. \n",
    "\n",
    "So now, all we need to do is pass the *decade* as key to the `titles` dataframe and apply the `value_counts` method. \n",
    "\n",
    "Let's see how to do this"
   ]
  },
  {
   "cell_type": "code",
   "execution_count": 170,
   "metadata": {},
   "outputs": [
    {
     "data": {
      "text/plain": [
       "<matplotlib.axes._subplots.AxesSubplot at 0x1295ead68>"
      ]
     },
     "execution_count": 170,
     "metadata": {},
     "output_type": "execute_result"
    },
    {
     "data": {
      "image/png": "[encoded data removed]",
      "text/plain": [
       "<matplotlib.figure.Figure at 0x129602860>"
      ]
     },
     "metadata": {},
     "output_type": "display_data"
    }
   ],
   "source": [
    "(titles['year'] // 10 * 10).value_counts().sort_index().plot(kind='bar')"
   ]
  },
  {
   "cell_type": "markdown",
   "metadata": {},
   "source": [
    "How many movies did a *movie star* star in?"
   ]
  },
  {
   "cell_type": "code",
   "execution_count": 168,
   "metadata": {},
   "outputs": [
    {
     "data": {
      "text/plain": [
       "62"
      ]
     },
     "execution_count": 168,
     "metadata": {},
     "output_type": "execute_result"
    }
   ],
   "source": [
    "movie_star = \"Matt Damon\"\n",
    "len(cast[cast['name'] == movie_star])"
   ]
  },
  {
   "cell_type": "markdown",
   "metadata": {},
   "source": [
    "What are the 10 most common name of the roles played by characters?"
   ]
  },
  {
   "cell_type": "code",
   "execution_count": 81,
   "metadata": {},
   "outputs": [
    {
     "data": {
      "text/plain": [
       "Himself        20457\n",
       "Dancer         12146\n",
       "Extra          11271\n",
       "Reporter        8270\n",
       "Doctor          7524\n",
       "Student         7427\n",
       "Policeman       6950\n",
       "Party Guest     6888\n",
       "Nurse           6760\n",
       "Bartender       6698\n",
       "Name: character, dtype: int64"
      ]
     },
     "execution_count": 81,
     "metadata": {},
     "output_type": "execute_result"
    }
   ],
   "source": [
    "cast['character'].value_counts().head(10)"
   ]
  },
  {
   "cell_type": "markdown",
   "metadata": {},
   "source": [
    "What are the 10 most common movie names?"
   ]
  },
  {
   "cell_type": "code",
   "execution_count": 169,
   "metadata": {},
   "outputs": [
    {
     "data": {
      "text/plain": [
       "Hamlet                  20\n",
       "Carmen                  16\n",
       "Macbeth                 15\n",
       "The Outsider            12\n",
       "Maya                    12\n",
       "Othello                 11\n",
       "The Three Musketeers    11\n",
       "Freedom                 11\n",
       "Temptation              11\n",
       "Honeymoon               10\n",
       "Name: title, dtype: int64"
      ]
     },
     "execution_count": 169,
     "metadata": {},
     "output_type": "execute_result"
    }
   ],
   "source": [
    "titles['title'].value_counts().head(10)"
   ]
  },
  {
   "cell_type": "markdown",
   "metadata": {},
   "source": [
    "Similarly, you can find who has been the most in the movies"
   ]
  },
  {
   "cell_type": "code",
   "execution_count": 82,
   "metadata": {},
   "outputs": [
    {
     "data": {
      "text/plain": [
       "Bess Flowers       824\n",
       "Herman Hack        689\n",
       "Sam (II) Harris    662\n",
       "Lee Phelps         623\n",
       "Harold Miller      619\n",
       "Frank O'Connor     610\n",
       "Franklyn Farnum    565\n",
       "Tom London         562\n",
       "Larry Steers       557\n",
       "Frank Ellis        545\n",
       "Name: name, dtype: int64"
      ]
     },
     "execution_count": 82,
     "metadata": {},
     "output_type": "execute_result"
    }
   ],
   "source": [
    "cast['name'].value_counts().head(10)"
   ]
  },
  {
   "cell_type": "markdown",
   "metadata": {},
   "source": [
    "Lets find the years when *The Bourne* series were released."
   ]
  },
  {
   "cell_type": "code",
   "execution_count": 83,
   "metadata": {},
   "outputs": [
    {
     "data": {
      "text/html": [
       "<div>\n",
       "<table border=\"1\" class=\"dataframe\">\n",
       "  <thead>\n",
       "    <tr style=\"text-align: right;\">\n",
       "      <th></th>\n",
       "      <th>title</th>\n",
       "      <th>year</th>\n",
       "    </tr>\n",
       "  </thead>\n",
       "  <tbody>\n",
       "    <tr>\n",
       "      <th>72237</th>\n",
       "      <td>The Bourne Identity</td>\n",
       "      <td>2002</td>\n",
       "    </tr>\n",
       "    <tr>\n",
       "      <th>107314</th>\n",
       "      <td>The Bourne Supremacy</td>\n",
       "      <td>2004</td>\n",
       "    </tr>\n",
       "    <tr>\n",
       "      <th>78822</th>\n",
       "      <td>The Bourne Ultimatum</td>\n",
       "      <td>2007</td>\n",
       "    </tr>\n",
       "    <tr>\n",
       "      <th>3309</th>\n",
       "      <td>The Mel Bourne Ultimatum</td>\n",
       "      <td>2009</td>\n",
       "    </tr>\n",
       "    <tr>\n",
       "      <th>34759</th>\n",
       "      <td>The Bourne Legacy</td>\n",
       "      <td>2012</td>\n",
       "    </tr>\n",
       "    <tr>\n",
       "      <th>38495</th>\n",
       "      <td>Jason Bourne</td>\n",
       "      <td>2016</td>\n",
       "    </tr>\n",
       "  </tbody>\n",
       "</table>\n",
       "</div>"
      ],
      "text/plain": [
       "                           title  year\n",
       "72237        The Bourne Identity  2002\n",
       "107314      The Bourne Supremacy  2004\n",
       "78822       The Bourne Ultimatum  2007\n",
       "3309    The Mel Bourne Ultimatum  2009\n",
       "34759          The Bourne Legacy  2012\n",
       "38495               Jason Bourne  2016"
      ]
     },
     "execution_count": 83,
     "metadata": {},
     "output_type": "execute_result"
    }
   ],
   "source": [
    "titles[titles['title'].str.contains(\"Bourne\")].sort_values('year')"
   ]
  },
  {
   "cell_type": "markdown",
   "metadata": {},
   "source": [
    "Lets find the movies when *Matt Damon* was *Jason Bourne*"
   ]
  },
  {
   "cell_type": "code",
   "execution_count": 91,
   "metadata": {},
   "outputs": [
    {
     "data": {
      "text/html": [
       "<div>\n",
       "<table border=\"1\" class=\"dataframe\">\n",
       "  <thead>\n",
       "    <tr style=\"text-align: right;\">\n",
       "      <th></th>\n",
       "      <th>title</th>\n",
       "      <th>year</th>\n",
       "      <th>name</th>\n",
       "      <th>type</th>\n",
       "      <th>character</th>\n",
       "      <th>n</th>\n",
       "    </tr>\n",
       "  </thead>\n",
       "  <tbody>\n",
       "    <tr>\n",
       "      <th>514526</th>\n",
       "      <td>Jason Bourne</td>\n",
       "      <td>2016</td>\n",
       "      <td>Matt Damon</td>\n",
       "      <td>actor</td>\n",
       "      <td>Jason Bourne</td>\n",
       "      <td>1.0</td>\n",
       "    </tr>\n",
       "    <tr>\n",
       "      <th>514546</th>\n",
       "      <td>The Bourne Identity</td>\n",
       "      <td>2002</td>\n",
       "      <td>Matt Damon</td>\n",
       "      <td>actor</td>\n",
       "      <td>Bourne</td>\n",
       "      <td>1.0</td>\n",
       "    </tr>\n",
       "    <tr>\n",
       "      <th>514547</th>\n",
       "      <td>The Bourne Supremacy</td>\n",
       "      <td>2004</td>\n",
       "      <td>Matt Damon</td>\n",
       "      <td>actor</td>\n",
       "      <td>Jason Bourne</td>\n",
       "      <td>1.0</td>\n",
       "    </tr>\n",
       "    <tr>\n",
       "      <th>514548</th>\n",
       "      <td>The Bourne Ultimatum</td>\n",
       "      <td>2007</td>\n",
       "      <td>Matt Damon</td>\n",
       "      <td>actor</td>\n",
       "      <td>Jason Bourne</td>\n",
       "      <td>1.0</td>\n",
       "    </tr>\n",
       "  </tbody>\n",
       "</table>\n",
       "</div>"
      ],
      "text/plain": [
       "                       title  year        name   type     character    n\n",
       "514526          Jason Bourne  2016  Matt Damon  actor  Jason Bourne  1.0\n",
       "514546   The Bourne Identity  2002  Matt Damon  actor        Bourne  1.0\n",
       "514547  The Bourne Supremacy  2004  Matt Damon  actor  Jason Bourne  1.0\n",
       "514548  The Bourne Ultimatum  2007  Matt Damon  actor  Jason Bourne  1.0"
      ]
     },
     "execution_count": 91,
     "metadata": {},
     "output_type": "execute_result"
    }
   ],
   "source": [
    "matt_jbourne = cast[(cast['title'].str.contains(\"Bourne\")) & \n",
    "                    (cast['name'].str.contains(\"Matt Damon\"))]\n",
    "matt_jbourne"
   ]
  },
  {
   "cell_type": "markdown",
   "metadata": {},
   "source": [
    "So, How many movies do you think is released every year starring Matt Damon?"
   ]
  },
  {
   "cell_type": "code",
   "execution_count": 172,
   "metadata": {},
   "outputs": [
    {
     "data": {
      "text/plain": [
       "<matplotlib.text.Text at 0x12b1716d8>"
      ]
     },
     "execution_count": 172,
     "metadata": {},
     "output_type": "execute_result"
    },
    {
     "data": {
      "image/png": "[encoded data removed]",
      "text/plain": [
       "<matplotlib.figure.Figure at 0x12b06e7b8>"
      ]
     },
     "metadata": {},
     "output_type": "display_data"
    }
   ],
   "source": [
    "fig, ax = plt.subplots()\n",
    "ax.plot(cast[cast['name'] == \"Matt Damon\"].groupby('year').size())\n",
    "ax.set_xlabel(\"Year\")\n",
    "ax.set_ylabel(\"# of Movies\")\n",
    "ax.set_title(\"Matt Damon movies\")"
   ]
  },
  {
   "cell_type": "markdown",
   "metadata": {},
   "source": [
    "And how about the ranks at which *Matt Damon* stars in the movies?"
   ]
  },
  {
   "cell_type": "code",
   "execution_count": 177,
   "metadata": {},
   "outputs": [
    {
     "data": {
      "text/plain": [
       "<matplotlib.axes._subplots.AxesSubplot at 0x12b6dbe10>"
      ]
     },
     "execution_count": 177,
     "metadata": {},
     "output_type": "execute_result"
    },
    {
     "data": {
      "image/png": "[encoded data removed]",
      "text/plain": [
       "<matplotlib.figure.Figure at 0x12b85f860>"
      ]
     },
     "metadata": {},
     "output_type": "display_data"
    }
   ],
   "source": [
    "matt_movies = cast[cast.name == 'Matt Damon'].sort_values('year')\n",
    "matt_movies = matt_movies[matt_movies['n'].notnull()]\n",
    "# For scatter plots, you can simply pass the column\n",
    "# names for the x and y argument\n",
    "matt_movies.plot(x='year', y='n', kind='scatter')"
   ]
  },
  {
   "cell_type": "markdown",
   "metadata": {},
   "source": [
    "So how many leading roles?"
   ]
  },
  {
   "cell_type": "code",
   "execution_count": 180,
   "metadata": {},
   "outputs": [
    {
     "data": {
      "text/plain": [
       "1.0    20\n",
       "Name: n, dtype: int64"
      ]
     },
     "execution_count": 180,
     "metadata": {},
     "output_type": "execute_result"
    }
   ],
   "source": [
    "matt_movies = cast[cast.name == 'Matt Damon'].sort_values('year')\n",
    "matt_movies[matt_movies['n'] == 1]['n'].value_counts()"
   ]
  },
  {
   "cell_type": "markdown",
   "metadata": {},
   "source": [
    "Lets see how many people were casted in all these *Jason Bourne* movies"
   ]
  },
  {
   "cell_type": "code",
   "execution_count": 101,
   "metadata": {},
   "outputs": [
    {
     "name": "stdout",
     "output_type": "stream",
     "text": [
      "CPU times: user 2.33 s, sys: 26 ms, total: 2.35 s\n",
      "Wall time: 2.37 s\n"
     ]
    },
    {
     "data": {
      "text/plain": [
       "year  title                   \n",
       "2002  The Bourne Identity          56\n",
       "2004  The Bourne Supremacy         49\n",
       "2007  The Bourne Ultimatum         70\n",
       "2009  The Mel Bourne Ultimatum      8\n",
       "2012  The Bourne Legacy           124\n",
       "2016  Jason Bourne                251\n",
       "dtype: int64"
      ]
     },
     "execution_count": 101,
     "metadata": {},
     "output_type": "execute_result"
    }
   ],
   "source": [
    "%%time\n",
    "cast[(cast['title'].str.contains(\"Bourne\"))].groupby(['year', 'title']).size()"
   ]
  },
  {
   "cell_type": "markdown",
   "metadata": {},
   "source": [
    "Among these casts, how many were actors and actresses?"
   ]
  },
  {
   "cell_type": "code",
   "execution_count": 111,
   "metadata": {},
   "outputs": [
    {
     "name": "stdout",
     "output_type": "stream",
     "text": [
      "CPU times: user 2.32 s, sys: 22.4 ms, total: 2.34 s\n",
      "Wall time: 2.34 s\n"
     ]
    },
    {
     "data": {
      "text/plain": [
       "year  title                     type   \n",
       "2002  The Bourne Identity       actor       50\n",
       "                                actress      6\n",
       "2004  The Bourne Supremacy      actor       38\n",
       "                                actress     11\n",
       "2007  The Bourne Ultimatum      actor       59\n",
       "                                actress     11\n",
       "2009  The Mel Bourne Ultimatum  actor        5\n",
       "                                actress      3\n",
       "2012  The Bourne Legacy         actor       87\n",
       "                                actress     37\n",
       "2016  Jason Bourne              actor      184\n",
       "                                actress     67\n",
       "dtype: int64"
      ]
     },
     "execution_count": 111,
     "metadata": {},
     "output_type": "execute_result"
    }
   ],
   "source": [
    "%%time \n",
    "cast[(cast['title'].str.contains(\"Bourne\"))].groupby(['year', 'title', 'type']).size()"
   ]
  },
  {
   "cell_type": "markdown",
   "metadata": {},
   "source": [
    "Lets plot the above and see the total number of roles based on gender"
   ]
  },
  {
   "cell_type": "code",
   "execution_count": 129,
   "metadata": {},
   "outputs": [
    {
     "name": "stdout",
     "output_type": "stream",
     "text": [
      "type  actor  actress\n",
      "year                \n",
      "2002     50        6\n",
      "2004     38       11\n",
      "2007     59       11\n",
      "2009      5        3\n",
      "2012     87       37\n",
      "2016    184       67\n"
     ]
    },
    {
     "data": {
      "text/plain": [
       "<matplotlib.axes._subplots.AxesSubplot at 0x11b9c2278>"
      ]
     },
     "execution_count": 129,
     "metadata": {},
     "output_type": "execute_result"
    },
    {
     "data": {
      "image/png": "[encoded data removed]",
      "text/plain": [
       "<matplotlib.figure.Figure at 0x11b8c2400>"
      ]
     },
     "metadata": {},
     "output_type": "display_data"
    }
   ],
   "source": [
    "jason_cast = cast[(cast['title'].str.contains(\"Bourne\"))]\n",
    "jason_cast_gender = jason_cast[['year', 'type']].groupby(['year', 'type']).size().unstack()\n",
    "print(jason_cast_gender)\n",
    "jason_cast_gender.plot()"
   ]
  },
  {
   "cell_type": "markdown",
   "metadata": {},
   "source": [
    "Lets find out the entire cast of the *The Bourne Ultimatum* and print just the top 10 leads"
   ]
  },
  {
   "cell_type": "code",
   "execution_count": 89,
   "metadata": {},
   "outputs": [
    {
     "data": {
      "text/html": [
       "<div>\n",
       "<table border=\"1\" class=\"dataframe\">\n",
       "  <thead>\n",
       "    <tr style=\"text-align: right;\">\n",
       "      <th></th>\n",
       "      <th>title</th>\n",
       "      <th>year</th>\n",
       "      <th>name</th>\n",
       "      <th>type</th>\n",
       "      <th>character</th>\n",
       "      <th>n</th>\n",
       "    </tr>\n",
       "  </thead>\n",
       "  <tbody>\n",
       "    <tr>\n",
       "      <th>514548</th>\n",
       "      <td>The Bourne Ultimatum</td>\n",
       "      <td>2007</td>\n",
       "      <td>Matt Damon</td>\n",
       "      <td>actor</td>\n",
       "      <td>Jason Bourne</td>\n",
       "      <td>1.0</td>\n",
       "    </tr>\n",
       "    <tr>\n",
       "      <th>3525027</th>\n",
       "      <td>The Bourne Ultimatum</td>\n",
       "      <td>2007</td>\n",
       "      <td>Julia Stiles</td>\n",
       "      <td>actress</td>\n",
       "      <td>Nicky Parsons</td>\n",
       "      <td>2.0</td>\n",
       "    </tr>\n",
       "    <tr>\n",
       "      <th>2160381</th>\n",
       "      <td>The Bourne Ultimatum</td>\n",
       "      <td>2007</td>\n",
       "      <td>David Strathairn</td>\n",
       "      <td>actor</td>\n",
       "      <td>Noah Vosen</td>\n",
       "      <td>3.0</td>\n",
       "    </tr>\n",
       "    <tr>\n",
       "      <th>827328</th>\n",
       "      <td>The Bourne Ultimatum</td>\n",
       "      <td>2007</td>\n",
       "      <td>Scott Glenn</td>\n",
       "      <td>actor</td>\n",
       "      <td>Ezra Kramer</td>\n",
       "      <td>4.0</td>\n",
       "    </tr>\n",
       "    <tr>\n",
       "      <th>452157</th>\n",
       "      <td>The Bourne Ultimatum</td>\n",
       "      <td>2007</td>\n",
       "      <td>Paddy Considine</td>\n",
       "      <td>actor</td>\n",
       "      <td>Simon Ross</td>\n",
       "      <td>5.0</td>\n",
       "    </tr>\n",
       "    <tr>\n",
       "      <th>1842219</th>\n",
       "      <td>The Bourne Ultimatum</td>\n",
       "      <td>2007</td>\n",
       "      <td>Edgar (IV) Ram?rez</td>\n",
       "      <td>actor</td>\n",
       "      <td>Paz</td>\n",
       "      <td>6.0</td>\n",
       "    </tr>\n",
       "    <tr>\n",
       "      <th>717336</th>\n",
       "      <td>The Bourne Ultimatum</td>\n",
       "      <td>2007</td>\n",
       "      <td>Albert Finney</td>\n",
       "      <td>actor</td>\n",
       "      <td>Dr. Albert Hirsch</td>\n",
       "      <td>7.0</td>\n",
       "    </tr>\n",
       "    <tr>\n",
       "      <th>2510131</th>\n",
       "      <td>The Bourne Ultimatum</td>\n",
       "      <td>2007</td>\n",
       "      <td>Joan Allen</td>\n",
       "      <td>actress</td>\n",
       "      <td>Pam Landy</td>\n",
       "      <td>8.0</td>\n",
       "    </tr>\n",
       "    <tr>\n",
       "      <th>778203</th>\n",
       "      <td>The Bourne Ultimatum</td>\n",
       "      <td>2007</td>\n",
       "      <td>Tom Gallop</td>\n",
       "      <td>actor</td>\n",
       "      <td>Tom Cronin</td>\n",
       "      <td>9.0</td>\n",
       "    </tr>\n",
       "    <tr>\n",
       "      <th>1095446</th>\n",
       "      <td>The Bourne Ultimatum</td>\n",
       "      <td>2007</td>\n",
       "      <td>Corey Johnson</td>\n",
       "      <td>actor</td>\n",
       "      <td>Wills</td>\n",
       "      <td>10.0</td>\n",
       "    </tr>\n",
       "  </tbody>\n",
       "</table>\n",
       "</div>"
      ],
      "text/plain": [
       "                        title  year                name     type  \\\n",
       "514548   The Bourne Ultimatum  2007          Matt Damon    actor   \n",
       "3525027  The Bourne Ultimatum  2007        Julia Stiles  actress   \n",
       "2160381  The Bourne Ultimatum  2007    David Strathairn    actor   \n",
       "827328   The Bourne Ultimatum  2007         Scott Glenn    actor   \n",
       "452157   The Bourne Ultimatum  2007     Paddy Considine    actor   \n",
       "1842219  The Bourne Ultimatum  2007  Edgar (IV) Ram?rez    actor   \n",
       "717336   The Bourne Ultimatum  2007       Albert Finney    actor   \n",
       "2510131  The Bourne Ultimatum  2007          Joan Allen  actress   \n",
       "778203   The Bourne Ultimatum  2007          Tom Gallop    actor   \n",
       "1095446  The Bourne Ultimatum  2007       Corey Johnson    actor   \n",
       "\n",
       "                 character     n  \n",
       "514548        Jason Bourne   1.0  \n",
       "3525027      Nicky Parsons   2.0  \n",
       "2160381         Noah Vosen   3.0  \n",
       "827328         Ezra Kramer   4.0  \n",
       "452157          Simon Ross   5.0  \n",
       "1842219                Paz   6.0  \n",
       "717336   Dr. Albert Hirsch   7.0  \n",
       "2510131          Pam Landy   8.0  \n",
       "778203          Tom Cronin   9.0  \n",
       "1095446              Wills  10.0  "
      ]
     },
     "execution_count": 89,
     "metadata": {},
     "output_type": "execute_result"
    }
   ],
   "source": [
    "cast[cast['title'] == \"The Bourne Ultimatum\"].sort_values(['n']).head(10)"
   ]
  },
  {
   "cell_type": "markdown",
   "metadata": {},
   "source": [
    "Lets see in what months Matt Damon's movies are most often released in the USA.\n",
    "\n",
    "- First, find the year and the title of unique movies starring Matt Damon were released"
   ]
  },
  {
   "cell_type": "code",
   "execution_count": 132,
   "metadata": {
    "collapsed": true
   },
   "outputs": [],
   "source": [
    "matt_movies = cast[cast['name'] == \"Matt Damon\"][['title', 'year']].drop_duplicates()"
   ]
  },
  {
   "cell_type": "markdown",
   "metadata": {},
   "source": [
    "Now we have to re-index the `release_dates` dataframe with `title` and `year` keys"
   ]
  },
  {
   "cell_type": "code",
   "execution_count": 143,
   "metadata": {
    "collapsed": true
   },
   "outputs": [],
   "source": [
    "rel_dts = release_dates.set_index(['title', 'year']).sort_index()"
   ]
  },
  {
   "cell_type": "markdown",
   "metadata": {},
   "source": [
    "- Now, the 'month' part is present in `date` column present in `release_dates` dataframe so we have to combine the `cast` and `release_dates` dataframes for Matt Damon's movies by some common index (in our case, we will use the common index as `title` and `year` since it is present in both the dataframes)"
   ]
  },
  {
   "cell_type": "code",
   "execution_count": 144,
   "metadata": {},
   "outputs": [],
   "source": [
    "matt_movie_releases = matt_movies.join(rel_dts, on=['title', 'year'])"
   ]
  },
  {
   "cell_type": "markdown",
   "metadata": {},
   "source": [
    "- We only want movies released in the USA"
   ]
  },
  {
   "cell_type": "code",
   "execution_count": 145,
   "metadata": {
    "collapsed": true
   },
   "outputs": [],
   "source": [
    "matt_movie_releases = matt_movie_releases[matt_movie_releases['country'] == \"USA\"]"
   ]
  },
  {
   "cell_type": "markdown",
   "metadata": {},
   "source": [
    "- Now lets plot the `month` part."
   ]
  },
  {
   "cell_type": "code",
   "execution_count": 146,
   "metadata": {},
   "outputs": [
    {
     "data": {
      "text/plain": [
       "<matplotlib.axes._subplots.AxesSubplot at 0x1160f8208>"
      ]
     },
     "execution_count": 146,
     "metadata": {},
     "output_type": "execute_result"
    },
    {
     "data": {
      "image/png": "[encoded data removed]",
      "text/plain": [
       "<matplotlib.figure.Figure at 0x1160f16a0>"
      ]
     },
     "metadata": {},
     "output_type": "display_data"
    }
   ],
   "source": [
    "matt_movie_releases['date'].dt.month.value_counts().sort_index().plot(kind='bar')"
   ]
  },
  {
   "cell_type": "markdown",
   "metadata": {},
   "source": [
    "Cool, Now lets see when the Bourne movie series were released in different countries.\n",
    "> Since there are is a huge list of countries, lets just select \"USA\", \"UK\" and \"India\""
   ]
  },
  {
   "cell_type": "code",
   "execution_count": 154,
   "metadata": {},
   "outputs": [
    {
     "data": {
      "text/html": [
       "<div>\n",
       "<table border=\"1\" class=\"dataframe\">\n",
       "  <thead>\n",
       "    <tr>\n",
       "      <th></th>\n",
       "      <th colspan=\"3\" halign=\"left\">date</th>\n",
       "    </tr>\n",
       "    <tr>\n",
       "      <th>country</th>\n",
       "      <th>Australia</th>\n",
       "      <th>UK</th>\n",
       "      <th>USA</th>\n",
       "    </tr>\n",
       "    <tr>\n",
       "      <th>title</th>\n",
       "      <th></th>\n",
       "      <th></th>\n",
       "      <th></th>\n",
       "    </tr>\n",
       "  </thead>\n",
       "  <tbody>\n",
       "    <tr>\n",
       "      <th>All the Pretty Horses</th>\n",
       "      <td>2001-05-10</td>\n",
       "      <td>2001-05-25</td>\n",
       "      <td>2000-12-25</td>\n",
       "    </tr>\n",
       "    <tr>\n",
       "      <th>Chasing Amy</th>\n",
       "      <td>1997-07-03</td>\n",
       "      <td>1997-11-14</td>\n",
       "      <td>1997-04-18</td>\n",
       "    </tr>\n",
       "    <tr>\n",
       "      <th>Che: Part Two</th>\n",
       "      <td>2009-10-01</td>\n",
       "      <td>2009-02-20</td>\n",
       "      <td>2009-01-24</td>\n",
       "    </tr>\n",
       "    <tr>\n",
       "      <th>Confessions of a Dangerous Mind</th>\n",
       "      <td>2003-07-24</td>\n",
       "      <td>2003-03-14</td>\n",
       "      <td>2003-01-24</td>\n",
       "    </tr>\n",
       "    <tr>\n",
       "      <th>Contagion</th>\n",
       "      <td>2011-10-20</td>\n",
       "      <td>2011-10-21</td>\n",
       "      <td>2011-09-09</td>\n",
       "    </tr>\n",
       "    <tr>\n",
       "      <th>Courage Under Fire</th>\n",
       "      <td>1996-09-12</td>\n",
       "      <td>1996-10-04</td>\n",
       "      <td>1996-07-12</td>\n",
       "    </tr>\n",
       "    <tr>\n",
       "      <th>Dogma</th>\n",
       "      <td>2000-02-03</td>\n",
       "      <td>1999-12-26</td>\n",
       "      <td>1999-11-12</td>\n",
       "    </tr>\n",
       "    <tr>\n",
       "      <th>Elysium</th>\n",
       "      <td>2013-08-15</td>\n",
       "      <td>2013-08-21</td>\n",
       "      <td>2013-08-09</td>\n",
       "    </tr>\n",
       "    <tr>\n",
       "      <th>EuroTrip</th>\n",
       "      <td>2004-08-12</td>\n",
       "      <td>2004-06-25</td>\n",
       "      <td>2004-02-20</td>\n",
       "    </tr>\n",
       "    <tr>\n",
       "      <th>Field of Dreams</th>\n",
       "      <td>1989-08-31</td>\n",
       "      <td>1989-11-24</td>\n",
       "      <td>1989-05-05</td>\n",
       "    </tr>\n",
       "    <tr>\n",
       "      <th>Finding Forrester</th>\n",
       "      <td>2001-03-29</td>\n",
       "      <td>2001-02-23</td>\n",
       "      <td>2001-01-12</td>\n",
       "    </tr>\n",
       "    <tr>\n",
       "      <th>Gake no ue no Ponyo</th>\n",
       "      <td>2009-08-27</td>\n",
       "      <td>2010-02-12</td>\n",
       "      <td>2009-08-14</td>\n",
       "    </tr>\n",
       "    <tr>\n",
       "      <th>Geronimo: An American Legend</th>\n",
       "      <td>1994-05-26</td>\n",
       "      <td>1994-10-14</td>\n",
       "      <td>1993-12-10</td>\n",
       "    </tr>\n",
       "    <tr>\n",
       "      <th>Gerry</th>\n",
       "      <td>NaT</td>\n",
       "      <td>2003-08-22</td>\n",
       "      <td>NaT</td>\n",
       "    </tr>\n",
       "    <tr>\n",
       "      <th>Glory Daze</th>\n",
       "      <td>NaT</td>\n",
       "      <td>NaT</td>\n",
       "      <td>1996-09-27</td>\n",
       "    </tr>\n",
       "    <tr>\n",
       "      <th>Good Will Hunting</th>\n",
       "      <td>1998-03-12</td>\n",
       "      <td>1998-03-06</td>\n",
       "      <td>1998-01-09</td>\n",
       "    </tr>\n",
       "    <tr>\n",
       "      <th>Green Zone</th>\n",
       "      <td>2010-03-11</td>\n",
       "      <td>2010-03-12</td>\n",
       "      <td>2010-03-12</td>\n",
       "    </tr>\n",
       "    <tr>\n",
       "      <th>Happy Feet Two</th>\n",
       "      <td>2011-12-26</td>\n",
       "      <td>2011-12-02</td>\n",
       "      <td>2011-11-18</td>\n",
       "    </tr>\n",
       "    <tr>\n",
       "      <th>Hereafter</th>\n",
       "      <td>NaT</td>\n",
       "      <td>2011-01-28</td>\n",
       "      <td>2010-10-22</td>\n",
       "    </tr>\n",
       "    <tr>\n",
       "      <th>Interstellar</th>\n",
       "      <td>2014-11-06</td>\n",
       "      <td>2014-11-07</td>\n",
       "      <td>2014-11-07</td>\n",
       "    </tr>\n",
       "    <tr>\n",
       "      <th>Invictus</th>\n",
       "      <td>2010-01-21</td>\n",
       "      <td>2010-02-05</td>\n",
       "      <td>2009-12-11</td>\n",
       "    </tr>\n",
       "    <tr>\n",
       "      <th>Jason Bourne</th>\n",
       "      <td>2016-07-28</td>\n",
       "      <td>2016-07-27</td>\n",
       "      <td>2016-07-29</td>\n",
       "    </tr>\n",
       "    <tr>\n",
       "      <th>Jay and Silent Bob Strike Back</th>\n",
       "      <td>2002-01-31</td>\n",
       "      <td>2001-11-30</td>\n",
       "      <td>2001-08-24</td>\n",
       "    </tr>\n",
       "    <tr>\n",
       "      <th>Jersey Girl</th>\n",
       "      <td>2004-08-12</td>\n",
       "      <td>2004-06-18</td>\n",
       "      <td>2004-03-26</td>\n",
       "    </tr>\n",
       "    <tr>\n",
       "      <th>Margaret</th>\n",
       "      <td>2012-06-14</td>\n",
       "      <td>NaT</td>\n",
       "      <td>NaT</td>\n",
       "    </tr>\n",
       "    <tr>\n",
       "      <th>Mystic Pizza</th>\n",
       "      <td>1989-08-03</td>\n",
       "      <td>1990-01-05</td>\n",
       "      <td>1988-10-21</td>\n",
       "    </tr>\n",
       "    <tr>\n",
       "      <th>Ocean's Eight</th>\n",
       "      <td>2018-06-21</td>\n",
       "      <td>NaT</td>\n",
       "      <td>2018-06-08</td>\n",
       "    </tr>\n",
       "    <tr>\n",
       "      <th>Ocean's Eleven</th>\n",
       "      <td>2002-01-10</td>\n",
       "      <td>2002-02-15</td>\n",
       "      <td>2001-12-07</td>\n",
       "    </tr>\n",
       "    <tr>\n",
       "      <th>Ocean's Thirteen</th>\n",
       "      <td>2007-06-14</td>\n",
       "      <td>2007-06-08</td>\n",
       "      <td>2007-06-08</td>\n",
       "    </tr>\n",
       "    <tr>\n",
       "      <th>Ocean's Twelve</th>\n",
       "      <td>2004-12-09</td>\n",
       "      <td>2005-02-04</td>\n",
       "      <td>2004-12-10</td>\n",
       "    </tr>\n",
       "    <tr>\n",
       "      <th>Promised Land</th>\n",
       "      <td>2013-05-02</td>\n",
       "      <td>2013-04-19</td>\n",
       "      <td>2013-01-04</td>\n",
       "    </tr>\n",
       "    <tr>\n",
       "      <th>Rounders</th>\n",
       "      <td>1999-01-28</td>\n",
       "      <td>1998-11-20</td>\n",
       "      <td>1998-09-11</td>\n",
       "    </tr>\n",
       "    <tr>\n",
       "      <th>Saving Private Ryan</th>\n",
       "      <td>1998-11-19</td>\n",
       "      <td>1998-09-11</td>\n",
       "      <td>1998-07-24</td>\n",
       "    </tr>\n",
       "    <tr>\n",
       "      <th>School Ties</th>\n",
       "      <td>1993-06-10</td>\n",
       "      <td>NaT</td>\n",
       "      <td>1992-09-18</td>\n",
       "    </tr>\n",
       "    <tr>\n",
       "      <th>Spirit: Stallion of the Cimarron</th>\n",
       "      <td>2002-06-20</td>\n",
       "      <td>2002-07-05</td>\n",
       "      <td>2002-05-24</td>\n",
       "    </tr>\n",
       "    <tr>\n",
       "      <th>Stuck on You</th>\n",
       "      <td>2004-02-12</td>\n",
       "      <td>2004-01-02</td>\n",
       "      <td>2003-12-12</td>\n",
       "    </tr>\n",
       "    <tr>\n",
       "      <th>Suburbicon</th>\n",
       "      <td>NaT</td>\n",
       "      <td>NaT</td>\n",
       "      <td>2017-11-03</td>\n",
       "    </tr>\n",
       "    <tr>\n",
       "      <th>Syriana</th>\n",
       "      <td>2006-02-16</td>\n",
       "      <td>2006-03-03</td>\n",
       "      <td>2005-12-09</td>\n",
       "    </tr>\n",
       "    <tr>\n",
       "      <th>The Adjustment Bureau</th>\n",
       "      <td>NaT</td>\n",
       "      <td>2011-03-04</td>\n",
       "      <td>2011-03-04</td>\n",
       "    </tr>\n",
       "    <tr>\n",
       "      <th>The Bourne Identity</th>\n",
       "      <td>2002-08-22</td>\n",
       "      <td>2002-09-06</td>\n",
       "      <td>2002-06-14</td>\n",
       "    </tr>\n",
       "    <tr>\n",
       "      <th>The Bourne Supremacy</th>\n",
       "      <td>2004-08-26</td>\n",
       "      <td>2004-08-13</td>\n",
       "      <td>2004-07-23</td>\n",
       "    </tr>\n",
       "    <tr>\n",
       "      <th>The Bourne Ultimatum</th>\n",
       "      <td>2007-08-30</td>\n",
       "      <td>2007-08-17</td>\n",
       "      <td>2007-08-03</td>\n",
       "    </tr>\n",
       "    <tr>\n",
       "      <th>The Brothers Grimm</th>\n",
       "      <td>2005-11-24</td>\n",
       "      <td>2005-11-04</td>\n",
       "      <td>2005-08-26</td>\n",
       "    </tr>\n",
       "    <tr>\n",
       "      <th>The Departed</th>\n",
       "      <td>2006-10-12</td>\n",
       "      <td>2006-10-06</td>\n",
       "      <td>2006-10-06</td>\n",
       "    </tr>\n",
       "    <tr>\n",
       "      <th>The Good Mother</th>\n",
       "      <td>1989-05-04</td>\n",
       "      <td>1989-02-17</td>\n",
       "      <td>1988-11-04</td>\n",
       "    </tr>\n",
       "    <tr>\n",
       "      <th>The Good Shepherd</th>\n",
       "      <td>2007-02-15</td>\n",
       "      <td>2007-02-23</td>\n",
       "      <td>2006-12-22</td>\n",
       "    </tr>\n",
       "    <tr>\n",
       "      <th>The Great Wall</th>\n",
       "      <td>2017-02-16</td>\n",
       "      <td>2017-02-17</td>\n",
       "      <td>2017-02-17</td>\n",
       "    </tr>\n",
       "    <tr>\n",
       "      <th>The Informant!</th>\n",
       "      <td>2009-12-03</td>\n",
       "      <td>2009-11-20</td>\n",
       "      <td>2009-09-18</td>\n",
       "    </tr>\n",
       "    <tr>\n",
       "      <th>The Legend of Bagger Vance</th>\n",
       "      <td>2001-02-08</td>\n",
       "      <td>2001-02-23</td>\n",
       "      <td>2000-11-03</td>\n",
       "    </tr>\n",
       "    <tr>\n",
       "      <th>The Majestic</th>\n",
       "      <td>2002-05-16</td>\n",
       "      <td>2002-05-24</td>\n",
       "      <td>2001-12-21</td>\n",
       "    </tr>\n",
       "    <tr>\n",
       "      <th>The Martian</th>\n",
       "      <td>2015-09-30</td>\n",
       "      <td>2015-09-30</td>\n",
       "      <td>2015-10-02</td>\n",
       "    </tr>\n",
       "    <tr>\n",
       "      <th>The Monuments Men</th>\n",
       "      <td>2014-03-13</td>\n",
       "      <td>2014-02-14</td>\n",
       "      <td>2014-02-07</td>\n",
       "    </tr>\n",
       "    <tr>\n",
       "      <th>The Rainmaker</th>\n",
       "      <td>1998-01-22</td>\n",
       "      <td>1998-04-03</td>\n",
       "      <td>1997-11-21</td>\n",
       "    </tr>\n",
       "    <tr>\n",
       "      <th>The Talented Mr. Ripley</th>\n",
       "      <td>2000-02-24</td>\n",
       "      <td>2000-02-25</td>\n",
       "      <td>1999-12-25</td>\n",
       "    </tr>\n",
       "    <tr>\n",
       "      <th>The Zero Theorem</th>\n",
       "      <td>2014-05-15</td>\n",
       "      <td>2014-03-14</td>\n",
       "      <td>NaT</td>\n",
       "    </tr>\n",
       "    <tr>\n",
       "      <th>Titan A.E.</th>\n",
       "      <td>2001-01-04</td>\n",
       "      <td>2000-07-28</td>\n",
       "      <td>2000-06-16</td>\n",
       "    </tr>\n",
       "    <tr>\n",
       "      <th>True Grit</th>\n",
       "      <td>2011-01-26</td>\n",
       "      <td>2011-02-11</td>\n",
       "      <td>2010-12-22</td>\n",
       "    </tr>\n",
       "    <tr>\n",
       "      <th>We Bought a Zoo</th>\n",
       "      <td>2011-12-26</td>\n",
       "      <td>2012-03-16</td>\n",
       "      <td>2011-12-23</td>\n",
       "    </tr>\n",
       "    <tr>\n",
       "      <th>Youth Without Youth</th>\n",
       "      <td>2008-11-20</td>\n",
       "      <td>2007-12-14</td>\n",
       "      <td>NaT</td>\n",
       "    </tr>\n",
       "  </tbody>\n",
       "</table>\n",
       "</div>"
      ],
      "text/plain": [
       "                                       date                      \n",
       "country                           Australia         UK        USA\n",
       "title                                                            \n",
       "All the Pretty Horses            2001-05-10 2001-05-25 2000-12-25\n",
       "Chasing Amy                      1997-07-03 1997-11-14 1997-04-18\n",
       "Che: Part Two                    2009-10-01 2009-02-20 2009-01-24\n",
       "Confessions of a Dangerous Mind  2003-07-24 2003-03-14 2003-01-24\n",
       "Contagion                        2011-10-20 2011-10-21 2011-09-09\n",
       "Courage Under Fire               1996-09-12 1996-10-04 1996-07-12\n",
       "Dogma                            2000-02-03 1999-12-26 1999-11-12\n",
       "Elysium                          2013-08-15 2013-08-21 2013-08-09\n",
       "EuroTrip                         2004-08-12 2004-06-25 2004-02-20\n",
       "Field of Dreams                  1989-08-31 1989-11-24 1989-05-05\n",
       "Finding Forrester                2001-03-29 2001-02-23 2001-01-12\n",
       "Gake no ue no Ponyo              2009-08-27 2010-02-12 2009-08-14\n",
       "Geronimo: An American Legend     1994-05-26 1994-10-14 1993-12-10\n",
       "Gerry                                   NaT 2003-08-22        NaT\n",
       "Glory Daze                              NaT        NaT 1996-09-27\n",
       "Good Will Hunting                1998-03-12 1998-03-06 1998-01-09\n",
       "Green Zone                       2010-03-11 2010-03-12 2010-03-12\n",
       "Happy Feet Two                   2011-12-26 2011-12-02 2011-11-18\n",
       "Hereafter                               NaT 2011-01-28 2010-10-22\n",
       "Interstellar                     2014-11-06 2014-11-07 2014-11-07\n",
       "Invictus                         2010-01-21 2010-02-05 2009-12-11\n",
       "Jason Bourne                     2016-07-28 2016-07-27 2016-07-29\n",
       "Jay and Silent Bob Strike Back   2002-01-31 2001-11-30 2001-08-24\n",
       "Jersey Girl                      2004-08-12 2004-06-18 2004-03-26\n",
       "Margaret                         2012-06-14        NaT        NaT\n",
       "Mystic Pizza                     1989-08-03 1990-01-05 1988-10-21\n",
       "Ocean's Eight                    2018-06-21        NaT 2018-06-08\n",
       "Ocean's Eleven                   2002-01-10 2002-02-15 2001-12-07\n",
       "Ocean's Thirteen                 2007-06-14 2007-06-08 2007-06-08\n",
       "Ocean's Twelve                   2004-12-09 2005-02-04 2004-12-10\n",
       "Promised Land                    2013-05-02 2013-04-19 2013-01-04\n",
       "Rounders                         1999-01-28 1998-11-20 1998-09-11\n",
       "Saving Private Ryan              1998-11-19 1998-09-11 1998-07-24\n",
       "School Ties                      1993-06-10        NaT 1992-09-18\n",
       "Spirit: Stallion of the Cimarron 2002-06-20 2002-07-05 2002-05-24\n",
       "Stuck on You                     2004-02-12 2004-01-02 2003-12-12\n",
       "Suburbicon                              NaT        NaT 2017-11-03\n",
       "Syriana                          2006-02-16 2006-03-03 2005-12-09\n",
       "The Adjustment Bureau                   NaT 2011-03-04 2011-03-04\n",
       "The Bourne Identity              2002-08-22 2002-09-06 2002-06-14\n",
       "The Bourne Supremacy             2004-08-26 2004-08-13 2004-07-23\n",
       "The Bourne Ultimatum             2007-08-30 2007-08-17 2007-08-03\n",
       "The Brothers Grimm               2005-11-24 2005-11-04 2005-08-26\n",
       "The Departed                     2006-10-12 2006-10-06 2006-10-06\n",
       "The Good Mother                  1989-05-04 1989-02-17 1988-11-04\n",
       "The Good Shepherd                2007-02-15 2007-02-23 2006-12-22\n",
       "The Great Wall                   2017-02-16 2017-02-17 2017-02-17\n",
       "The Informant!                   2009-12-03 2009-11-20 2009-09-18\n",
       "The Legend of Bagger Vance       2001-02-08 2001-02-23 2000-11-03\n",
       "The Majestic                     2002-05-16 2002-05-24 2001-12-21\n",
       "The Martian                      2015-09-30 2015-09-30 2015-10-02\n",
       "The Monuments Men                2014-03-13 2014-02-14 2014-02-07\n",
       "The Rainmaker                    1998-01-22 1998-04-03 1997-11-21\n",
       "The Talented Mr. Ripley          2000-02-24 2000-02-25 1999-12-25\n",
       "The Zero Theorem                 2014-05-15 2014-03-14        NaT\n",
       "Titan A.E.                       2001-01-04 2000-07-28 2000-06-16\n",
       "True Grit                        2011-01-26 2011-02-11 2010-12-22\n",
       "We Bought a Zoo                  2011-12-26 2012-03-16 2011-12-23\n",
       "Youth Without Youth              2008-11-20 2007-12-14        NaT"
      ]
     },
     "execution_count": 154,
     "metadata": {},
     "output_type": "execute_result"
    }
   ],
   "source": [
    "countries = [\"USA\", \"UK\", \"Australia\"]\n",
    "matt_movie_releases = matt_movies.join(rel_dts, on=['title', 'year'])\n",
    "matt_movie_countries = matt_movie_releases[matt_movie_releases['country'].str.contains('|'.join(countries))]\n",
    "matt_movie_countries.set_index(['title', 'country'])[['date']].unstack()"
   ]
  },
  {
   "cell_type": "markdown",
   "metadata": {},
   "source": [
    "> To match the `country` column against all the elements of the list, we use the `|` (OR) operator. It is considered as a Regular Expression.\n",
    "\n",
    "We can also create a `Pivot` table to provide the above output.\n",
    "> - The pivot table takes simple column-wise data as input, and groups the entries into a two-dimensional table that provides a multidimensional summarization of the data.\n",
    "> - Think of it as a multi-dimensional GroupBy function"
   ]
  },
  {
   "cell_type": "code",
   "execution_count": 155,
   "metadata": {},
   "outputs": [
    {
     "data": {
      "text/html": [
       "<div>\n",
       "<table border=\"1\" class=\"dataframe\">\n",
       "  <thead>\n",
       "    <tr style=\"text-align: right;\">\n",
       "      <th>country</th>\n",
       "      <th>Australia</th>\n",
       "      <th>UK</th>\n",
       "      <th>USA</th>\n",
       "    </tr>\n",
       "    <tr>\n",
       "      <th>title</th>\n",
       "      <th></th>\n",
       "      <th></th>\n",
       "      <th></th>\n",
       "    </tr>\n",
       "  </thead>\n",
       "  <tbody>\n",
       "    <tr>\n",
       "      <th>All the Pretty Horses</th>\n",
       "      <td>2001-05-10</td>\n",
       "      <td>2001-05-25</td>\n",
       "      <td>2000-12-25</td>\n",
       "    </tr>\n",
       "    <tr>\n",
       "      <th>Chasing Amy</th>\n",
       "      <td>1997-07-03</td>\n",
       "      <td>1997-11-14</td>\n",
       "      <td>1997-04-18</td>\n",
       "    </tr>\n",
       "    <tr>\n",
       "      <th>Che: Part Two</th>\n",
       "      <td>2009-10-01</td>\n",
       "      <td>2009-02-20</td>\n",
       "      <td>2009-01-24</td>\n",
       "    </tr>\n",
       "    <tr>\n",
       "      <th>Confessions of a Dangerous Mind</th>\n",
       "      <td>2003-07-24</td>\n",
       "      <td>2003-03-14</td>\n",
       "      <td>2003-01-24</td>\n",
       "    </tr>\n",
       "    <tr>\n",
       "      <th>Contagion</th>\n",
       "      <td>2011-10-20</td>\n",
       "      <td>2011-10-21</td>\n",
       "      <td>2011-09-09</td>\n",
       "    </tr>\n",
       "    <tr>\n",
       "      <th>Courage Under Fire</th>\n",
       "      <td>1996-09-12</td>\n",
       "      <td>1996-10-04</td>\n",
       "      <td>1996-07-12</td>\n",
       "    </tr>\n",
       "    <tr>\n",
       "      <th>Dogma</th>\n",
       "      <td>2000-02-03</td>\n",
       "      <td>1999-12-26</td>\n",
       "      <td>1999-11-12</td>\n",
       "    </tr>\n",
       "    <tr>\n",
       "      <th>Elysium</th>\n",
       "      <td>2013-08-15</td>\n",
       "      <td>2013-08-21</td>\n",
       "      <td>2013-08-09</td>\n",
       "    </tr>\n",
       "    <tr>\n",
       "      <th>EuroTrip</th>\n",
       "      <td>2004-08-12</td>\n",
       "      <td>2004-06-25</td>\n",
       "      <td>2004-02-20</td>\n",
       "    </tr>\n",
       "    <tr>\n",
       "      <th>Field of Dreams</th>\n",
       "      <td>1989-08-31</td>\n",
       "      <td>1989-11-24</td>\n",
       "      <td>1989-05-05</td>\n",
       "    </tr>\n",
       "    <tr>\n",
       "      <th>Finding Forrester</th>\n",
       "      <td>2001-03-29</td>\n",
       "      <td>2001-02-23</td>\n",
       "      <td>2001-01-12</td>\n",
       "    </tr>\n",
       "    <tr>\n",
       "      <th>Gake no ue no Ponyo</th>\n",
       "      <td>2009-08-27</td>\n",
       "      <td>2010-02-12</td>\n",
       "      <td>2009-08-14</td>\n",
       "    </tr>\n",
       "    <tr>\n",
       "      <th>Geronimo: An American Legend</th>\n",
       "      <td>1994-05-26</td>\n",
       "      <td>1994-10-14</td>\n",
       "      <td>1993-12-10</td>\n",
       "    </tr>\n",
       "    <tr>\n",
       "      <th>Gerry</th>\n",
       "      <td>NaT</td>\n",
       "      <td>2003-08-22</td>\n",
       "      <td>NaT</td>\n",
       "    </tr>\n",
       "    <tr>\n",
       "      <th>Glory Daze</th>\n",
       "      <td>NaT</td>\n",
       "      <td>NaT</td>\n",
       "      <td>1996-09-27</td>\n",
       "    </tr>\n",
       "    <tr>\n",
       "      <th>Good Will Hunting</th>\n",
       "      <td>1998-03-12</td>\n",
       "      <td>1998-03-06</td>\n",
       "      <td>1998-01-09</td>\n",
       "    </tr>\n",
       "    <tr>\n",
       "      <th>Green Zone</th>\n",
       "      <td>2010-03-11</td>\n",
       "      <td>2010-03-12</td>\n",
       "      <td>2010-03-12</td>\n",
       "    </tr>\n",
       "    <tr>\n",
       "      <th>Happy Feet Two</th>\n",
       "      <td>2011-12-26</td>\n",
       "      <td>2011-12-02</td>\n",
       "      <td>2011-11-18</td>\n",
       "    </tr>\n",
       "    <tr>\n",
       "      <th>Hereafter</th>\n",
       "      <td>NaT</td>\n",
       "      <td>2011-01-28</td>\n",
       "      <td>2010-10-22</td>\n",
       "    </tr>\n",
       "    <tr>\n",
       "      <th>Interstellar</th>\n",
       "      <td>2014-11-06</td>\n",
       "      <td>2014-11-07</td>\n",
       "      <td>2014-11-07</td>\n",
       "    </tr>\n",
       "    <tr>\n",
       "      <th>Invictus</th>\n",
       "      <td>2010-01-21</td>\n",
       "      <td>2010-02-05</td>\n",
       "      <td>2009-12-11</td>\n",
       "    </tr>\n",
       "    <tr>\n",
       "      <th>Jason Bourne</th>\n",
       "      <td>2016-07-28</td>\n",
       "      <td>2016-07-27</td>\n",
       "      <td>2016-07-29</td>\n",
       "    </tr>\n",
       "    <tr>\n",
       "      <th>Jay and Silent Bob Strike Back</th>\n",
       "      <td>2002-01-31</td>\n",
       "      <td>2001-11-30</td>\n",
       "      <td>2001-08-24</td>\n",
       "    </tr>\n",
       "    <tr>\n",
       "      <th>Jersey Girl</th>\n",
       "      <td>2004-08-12</td>\n",
       "      <td>2004-06-18</td>\n",
       "      <td>2004-03-26</td>\n",
       "    </tr>\n",
       "    <tr>\n",
       "      <th>Margaret</th>\n",
       "      <td>2012-06-14</td>\n",
       "      <td>NaT</td>\n",
       "      <td>NaT</td>\n",
       "    </tr>\n",
       "    <tr>\n",
       "      <th>Mystic Pizza</th>\n",
       "      <td>1989-08-03</td>\n",
       "      <td>1990-01-05</td>\n",
       "      <td>1988-10-21</td>\n",
       "    </tr>\n",
       "    <tr>\n",
       "      <th>Ocean's Eight</th>\n",
       "      <td>2018-06-21</td>\n",
       "      <td>NaT</td>\n",
       "      <td>2018-06-08</td>\n",
       "    </tr>\n",
       "    <tr>\n",
       "      <th>Ocean's Eleven</th>\n",
       "      <td>2002-01-10</td>\n",
       "      <td>2002-02-15</td>\n",
       "      <td>2001-12-07</td>\n",
       "    </tr>\n",
       "    <tr>\n",
       "      <th>Ocean's Thirteen</th>\n",
       "      <td>2007-06-14</td>\n",
       "      <td>2007-06-08</td>\n",
       "      <td>2007-06-08</td>\n",
       "    </tr>\n",
       "    <tr>\n",
       "      <th>Ocean's Twelve</th>\n",
       "      <td>2004-12-09</td>\n",
       "      <td>2005-02-04</td>\n",
       "      <td>2004-12-10</td>\n",
       "    </tr>\n",
       "    <tr>\n",
       "      <th>Promised Land</th>\n",
       "      <td>2013-05-02</td>\n",
       "      <td>2013-04-19</td>\n",
       "      <td>2013-01-04</td>\n",
       "    </tr>\n",
       "    <tr>\n",
       "      <th>Rounders</th>\n",
       "      <td>1999-01-28</td>\n",
       "      <td>1998-11-20</td>\n",
       "      <td>1998-09-11</td>\n",
       "    </tr>\n",
       "    <tr>\n",
       "      <th>Saving Private Ryan</th>\n",
       "      <td>1998-11-19</td>\n",
       "      <td>1998-09-11</td>\n",
       "      <td>1998-07-24</td>\n",
       "    </tr>\n",
       "    <tr>\n",
       "      <th>School Ties</th>\n",
       "      <td>1993-06-10</td>\n",
       "      <td>NaT</td>\n",
       "      <td>1992-09-18</td>\n",
       "    </tr>\n",
       "    <tr>\n",
       "      <th>Spirit: Stallion of the Cimarron</th>\n",
       "      <td>2002-06-20</td>\n",
       "      <td>2002-07-05</td>\n",
       "      <td>2002-05-24</td>\n",
       "    </tr>\n",
       "    <tr>\n",
       "      <th>Stuck on You</th>\n",
       "      <td>2004-02-12</td>\n",
       "      <td>2004-01-02</td>\n",
       "      <td>2003-12-12</td>\n",
       "    </tr>\n",
       "    <tr>\n",
       "      <th>Suburbicon</th>\n",
       "      <td>NaT</td>\n",
       "      <td>NaT</td>\n",
       "      <td>2017-11-03</td>\n",
       "    </tr>\n",
       "    <tr>\n",
       "      <th>Syriana</th>\n",
       "      <td>2006-02-16</td>\n",
       "      <td>2006-03-03</td>\n",
       "      <td>2005-12-09</td>\n",
       "    </tr>\n",
       "    <tr>\n",
       "      <th>The Adjustment Bureau</th>\n",
       "      <td>NaT</td>\n",
       "      <td>2011-03-04</td>\n",
       "      <td>2011-03-04</td>\n",
       "    </tr>\n",
       "    <tr>\n",
       "      <th>The Bourne Identity</th>\n",
       "      <td>2002-08-22</td>\n",
       "      <td>2002-09-06</td>\n",
       "      <td>2002-06-14</td>\n",
       "    </tr>\n",
       "    <tr>\n",
       "      <th>The Bourne Supremacy</th>\n",
       "      <td>2004-08-26</td>\n",
       "      <td>2004-08-13</td>\n",
       "      <td>2004-07-23</td>\n",
       "    </tr>\n",
       "    <tr>\n",
       "      <th>The Bourne Ultimatum</th>\n",
       "      <td>2007-08-30</td>\n",
       "      <td>2007-08-17</td>\n",
       "      <td>2007-08-03</td>\n",
       "    </tr>\n",
       "    <tr>\n",
       "      <th>The Brothers Grimm</th>\n",
       "      <td>2005-11-24</td>\n",
       "      <td>2005-11-04</td>\n",
       "      <td>2005-08-26</td>\n",
       "    </tr>\n",
       "    <tr>\n",
       "      <th>The Departed</th>\n",
       "      <td>2006-10-12</td>\n",
       "      <td>2006-10-06</td>\n",
       "      <td>2006-10-06</td>\n",
       "    </tr>\n",
       "    <tr>\n",
       "      <th>The Good Mother</th>\n",
       "      <td>1989-05-04</td>\n",
       "      <td>1989-02-17</td>\n",
       "      <td>1988-11-04</td>\n",
       "    </tr>\n",
       "    <tr>\n",
       "      <th>The Good Shepherd</th>\n",
       "      <td>2007-02-15</td>\n",
       "      <td>2007-02-23</td>\n",
       "      <td>2006-12-22</td>\n",
       "    </tr>\n",
       "    <tr>\n",
       "      <th>The Great Wall</th>\n",
       "      <td>2017-02-16</td>\n",
       "      <td>2017-02-17</td>\n",
       "      <td>2017-02-17</td>\n",
       "    </tr>\n",
       "    <tr>\n",
       "      <th>The Informant!</th>\n",
       "      <td>2009-12-03</td>\n",
       "      <td>2009-11-20</td>\n",
       "      <td>2009-09-18</td>\n",
       "    </tr>\n",
       "    <tr>\n",
       "      <th>The Legend of Bagger Vance</th>\n",
       "      <td>2001-02-08</td>\n",
       "      <td>2001-02-23</td>\n",
       "      <td>2000-11-03</td>\n",
       "    </tr>\n",
       "    <tr>\n",
       "      <th>The Majestic</th>\n",
       "      <td>2002-05-16</td>\n",
       "      <td>2002-05-24</td>\n",
       "      <td>2001-12-21</td>\n",
       "    </tr>\n",
       "    <tr>\n",
       "      <th>The Martian</th>\n",
       "      <td>2015-09-30</td>\n",
       "      <td>2015-09-30</td>\n",
       "      <td>2015-10-02</td>\n",
       "    </tr>\n",
       "    <tr>\n",
       "      <th>The Monuments Men</th>\n",
       "      <td>2014-03-13</td>\n",
       "      <td>2014-02-14</td>\n",
       "      <td>2014-02-07</td>\n",
       "    </tr>\n",
       "    <tr>\n",
       "      <th>The Rainmaker</th>\n",
       "      <td>1998-01-22</td>\n",
       "      <td>1998-04-03</td>\n",
       "      <td>1997-11-21</td>\n",
       "    </tr>\n",
       "    <tr>\n",
       "      <th>The Talented Mr. Ripley</th>\n",
       "      <td>2000-02-24</td>\n",
       "      <td>2000-02-25</td>\n",
       "      <td>1999-12-25</td>\n",
       "    </tr>\n",
       "    <tr>\n",
       "      <th>The Zero Theorem</th>\n",
       "      <td>2014-05-15</td>\n",
       "      <td>2014-03-14</td>\n",
       "      <td>NaT</td>\n",
       "    </tr>\n",
       "    <tr>\n",
       "      <th>Titan A.E.</th>\n",
       "      <td>2001-01-04</td>\n",
       "      <td>2000-07-28</td>\n",
       "      <td>2000-06-16</td>\n",
       "    </tr>\n",
       "    <tr>\n",
       "      <th>True Grit</th>\n",
       "      <td>2011-01-26</td>\n",
       "      <td>2011-02-11</td>\n",
       "      <td>2010-12-22</td>\n",
       "    </tr>\n",
       "    <tr>\n",
       "      <th>We Bought a Zoo</th>\n",
       "      <td>2011-12-26</td>\n",
       "      <td>2012-03-16</td>\n",
       "      <td>2011-12-23</td>\n",
       "    </tr>\n",
       "    <tr>\n",
       "      <th>Youth Without Youth</th>\n",
       "      <td>2008-11-20</td>\n",
       "      <td>2007-12-14</td>\n",
       "      <td>NaT</td>\n",
       "    </tr>\n",
       "  </tbody>\n",
       "</table>\n",
       "</div>"
      ],
      "text/plain": [
       "country                           Australia         UK        USA\n",
       "title                                                            \n",
       "All the Pretty Horses            2001-05-10 2001-05-25 2000-12-25\n",
       "Chasing Amy                      1997-07-03 1997-11-14 1997-04-18\n",
       "Che: Part Two                    2009-10-01 2009-02-20 2009-01-24\n",
       "Confessions of a Dangerous Mind  2003-07-24 2003-03-14 2003-01-24\n",
       "Contagion                        2011-10-20 2011-10-21 2011-09-09\n",
       "Courage Under Fire               1996-09-12 1996-10-04 1996-07-12\n",
       "Dogma                            2000-02-03 1999-12-26 1999-11-12\n",
       "Elysium                          2013-08-15 2013-08-21 2013-08-09\n",
       "EuroTrip                         2004-08-12 2004-06-25 2004-02-20\n",
       "Field of Dreams                  1989-08-31 1989-11-24 1989-05-05\n",
       "Finding Forrester                2001-03-29 2001-02-23 2001-01-12\n",
       "Gake no ue no Ponyo              2009-08-27 2010-02-12 2009-08-14\n",
       "Geronimo: An American Legend     1994-05-26 1994-10-14 1993-12-10\n",
       "Gerry                                   NaT 2003-08-22        NaT\n",
       "Glory Daze                              NaT        NaT 1996-09-27\n",
       "Good Will Hunting                1998-03-12 1998-03-06 1998-01-09\n",
       "Green Zone                       2010-03-11 2010-03-12 2010-03-12\n",
       "Happy Feet Two                   2011-12-26 2011-12-02 2011-11-18\n",
       "Hereafter                               NaT 2011-01-28 2010-10-22\n",
       "Interstellar                     2014-11-06 2014-11-07 2014-11-07\n",
       "Invictus                         2010-01-21 2010-02-05 2009-12-11\n",
       "Jason Bourne                     2016-07-28 2016-07-27 2016-07-29\n",
       "Jay and Silent Bob Strike Back   2002-01-31 2001-11-30 2001-08-24\n",
       "Jersey Girl                      2004-08-12 2004-06-18 2004-03-26\n",
       "Margaret                         2012-06-14        NaT        NaT\n",
       "Mystic Pizza                     1989-08-03 1990-01-05 1988-10-21\n",
       "Ocean's Eight                    2018-06-21        NaT 2018-06-08\n",
       "Ocean's Eleven                   2002-01-10 2002-02-15 2001-12-07\n",
       "Ocean's Thirteen                 2007-06-14 2007-06-08 2007-06-08\n",
       "Ocean's Twelve                   2004-12-09 2005-02-04 2004-12-10\n",
       "Promised Land                    2013-05-02 2013-04-19 2013-01-04\n",
       "Rounders                         1999-01-28 1998-11-20 1998-09-11\n",
       "Saving Private Ryan              1998-11-19 1998-09-11 1998-07-24\n",
       "School Ties                      1993-06-10        NaT 1992-09-18\n",
       "Spirit: Stallion of the Cimarron 2002-06-20 2002-07-05 2002-05-24\n",
       "Stuck on You                     2004-02-12 2004-01-02 2003-12-12\n",
       "Suburbicon                              NaT        NaT 2017-11-03\n",
       "Syriana                          2006-02-16 2006-03-03 2005-12-09\n",
       "The Adjustment Bureau                   NaT 2011-03-04 2011-03-04\n",
       "The Bourne Identity              2002-08-22 2002-09-06 2002-06-14\n",
       "The Bourne Supremacy             2004-08-26 2004-08-13 2004-07-23\n",
       "The Bourne Ultimatum             2007-08-30 2007-08-17 2007-08-03\n",
       "The Brothers Grimm               2005-11-24 2005-11-04 2005-08-26\n",
       "The Departed                     2006-10-12 2006-10-06 2006-10-06\n",
       "The Good Mother                  1989-05-04 1989-02-17 1988-11-04\n",
       "The Good Shepherd                2007-02-15 2007-02-23 2006-12-22\n",
       "The Great Wall                   2017-02-16 2017-02-17 2017-02-17\n",
       "The Informant!                   2009-12-03 2009-11-20 2009-09-18\n",
       "The Legend of Bagger Vance       2001-02-08 2001-02-23 2000-11-03\n",
       "The Majestic                     2002-05-16 2002-05-24 2001-12-21\n",
       "The Martian                      2015-09-30 2015-09-30 2015-10-02\n",
       "The Monuments Men                2014-03-13 2014-02-14 2014-02-07\n",
       "The Rainmaker                    1998-01-22 1998-04-03 1997-11-21\n",
       "The Talented Mr. Ripley          2000-02-24 2000-02-25 1999-12-25\n",
       "The Zero Theorem                 2014-05-15 2014-03-14        NaT\n",
       "Titan A.E.                       2001-01-04 2000-07-28 2000-06-16\n",
       "True Grit                        2011-01-26 2011-02-11 2010-12-22\n",
       "We Bought a Zoo                  2011-12-26 2012-03-16 2011-12-23\n",
       "Youth Without Youth              2008-11-20 2007-12-14        NaT"
      ]
     },
     "execution_count": 155,
     "metadata": {},
     "output_type": "execute_result"
    }
   ],
   "source": [
    "countries = [\"USA\", \"UK\", \"Australia\"]\n",
    "matt_movie_releases = matt_movies.join(rel_dts, on=['title', 'year'])\n",
    "matt_movie_countries = matt_movie_releases[matt_movie_releases['country'].str.contains('|'.join(countries))]\n",
    "matt_movie_countries.pivot(index='title', columns='country', values='date')"
   ]
  },
  {
   "cell_type": "markdown",
   "metadata": {},
   "source": [
    "Do you know when are the most *Action* movies released in the USA?"
   ]
  },
  {
   "cell_type": "code",
   "execution_count": 188,
   "metadata": {},
   "outputs": [
    {
     "data": {
      "text/plain": [
       "<matplotlib.axes._subplots.AxesSubplot at 0x12b8779b0>"
      ]
     },
     "execution_count": 188,
     "metadata": {},
     "output_type": "execute_result"
    },
    {
     "data": {
      "image/png": "[encoded data removed]",
      "text/plain": [
       "<matplotlib.figure.Figure at 0x11df7b390>"
      ]
     },
     "metadata": {},
     "output_type": "display_data"
    }
   ],
   "source": [
    "action_usa = release_dates[(release_dates['title'].str.contains('Action')) & \n",
    "                           (release_dates['country'] == \"USA\")]\n",
    "action_usa['date'].dt.dayofweek.value_counts().sort_index().plot(kind='bar')"
   ]
  },
  {
   "cell_type": "markdown",
   "metadata": {},
   "source": [
    "In which months are *Matt Damon*'s movies generally released in the USA?"
   ]
  },
  {
   "cell_type": "code",
   "execution_count": 190,
   "metadata": {},
   "outputs": [
    {
     "data": {
      "text/plain": [
       "<matplotlib.axes._subplots.AxesSubplot at 0x126fecda0>"
      ]
     },
     "execution_count": 190,
     "metadata": {},
     "output_type": "execute_result"
    },
    {
     "data": {
      "image/png": "[encoded data removed]",
      "text/plain": [
       "<matplotlib.figure.Figure at 0x126fa7be0>"
      ]
     },
     "metadata": {},
     "output_type": "display_data"
    }
   ],
   "source": [
    "matt_movies = cast[cast['name'] == 'Matt Damon']\n",
    "matt_movies_usa = matt_movies.merge(release_dates[release_dates.country == 'USA']).sort_values('date')\n",
    "matt_movies_usa.date.dt.month.value_counts().sort_index().plot(kind='bar')"
   ]
  },
  {
   "cell_type": "markdown",
   "metadata": {},
   "source": [
    "The above examples should give you some idea about the importance of Pandas and how its high level functions mask the complex computation that is performed on the underlying Numpy arrays.\n",
    "\n",
    "This is by no means an exhaustive list of all the functions. We have barely scratched the surface. \n",
    "\n",
    "> Remember --\n",
    "> ### The only way to become a master of something is to be really With It! \n",
    "So keep practicing and whenever you are stuck:\n",
    "- Go through the official documentation.\n",
    "- Enter the object name and Press `<TAB>` or `.?` and Jupyter will show you the docstring.\n",
    "- Don't trust the examples blindly. Run them, modify them, make mistakes and then rectify them.\n",
    "- Don't simply copy the StackOverflow or StackExchange or answers from anywhere else. Understand the solution that you find on such sites and then and only then use it in your code.\n",
    "\n",
    ">If you want more tutorials/ cookbooks, take a look at \n",
    "\n",
    "> - [`Pandas own 10 minute to Pandas`](http://pandas.pydata.org/pandas-docs/stable/10min.html#min '10 minutes to pandas')\n",
    "\n",
    "> - [`Hernan Rojas's Learn Pandas`](https://bitbucket.org/hrojas/learn-pandas 'hrojas's Learn Pandas')\n",
    "\n",
    "> - [`Pandas Cookbook`](http://pandas.pydata.org/pandas-docs/stable/cookbook.html#cookbook 'Pandas Cookbook')\n",
    "\n",
    "> - [`Greg Reda's Blog`](http://www.gregreda.com/2013/10/26/intro-to-pandas-data-structures/ 'Greg Redas blog on Pandas')\n"
   ]
  }
 ],
 "metadata": {
  "kernelspec": {
   "display_name": "Python 3",
   "language": "python",
   "name": "python3"
  },
  "language_info": {
   "codemirror_mode": {
    "name": "ipython",
    "version": 3
   },
   "file_extension": ".py",
   "mimetype": "text/x-python",
   "name": "python",
   "nbconvert_exporter": "python",
   "pygments_lexer": "ipython3",
   "version": "3.6.1"
  }
 },
 "nbformat": 4,
 "nbformat_minor": 2
}
