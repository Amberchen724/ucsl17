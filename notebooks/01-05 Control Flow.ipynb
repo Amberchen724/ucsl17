{
 "cells": [
  {
   "cell_type": "markdown",
   "metadata": {
    "deletable": true,
    "editable": true
   },
   "source": [
    "## 01 - 05 Control Flow\n",
    "Generally, a program is executed sequentially and once executed it is not repeated again. There may be a situation when you need to execute a piece of code n number of times, or maybe even execute certain piece of code based on a particular condition.. this is where the control flow statements come in. \n",
    "\n",
    "In this module, we will be covering:\n",
    "- Conditional statements -- `if`, `else` and `elif`\n",
    "- Loop statements -- `for`, `while`\n",
    "- Loop control statetements -- `break`, `continue`, `pass`\n",
    "\n",
    "### 01 - 05.01 Conditional Statements\n",
    "Conditionals statements are used to change the flow of execution. You can use the relational operators, logical operators and membership operators for performing condition checks"
   ]
  },
  {
   "cell_type": "code",
   "execution_count": null,
   "metadata": {
    "collapsed": false,
    "deletable": true,
    "editable": true
   },
   "outputs": [],
   "source": [
    "result = 1\n",
    "if result == 1:\n",
    "    print(\"Best Match\")\n",
    "elif result <= 3:\n",
    "    print(\"Close Enough\")\n",
    "else:\n",
    "    print(\"This is Blasphemy!\")"
   ]
  },
  {
   "cell_type": "markdown",
   "metadata": {
    "deletable": true,
    "editable": true
   },
   "source": [
    "The logic is very simple.. *`if`* < `condition_is_met` >, *`then`* do something; *`else`* do something else. \n",
    "\n",
    "Python adopts the `if`-`else` clause as it is used in many languages.. However the `elif` part is unique to python. `elif` simply is a contraction for `else if`."
   ]
  },
  {
   "cell_type": "markdown",
   "metadata": {
    "deletable": true,
    "editable": true
   },
   "source": [
    "### 01 - 05.02 Loop Statements\n",
    "These statements are used when we want to execute a piece of code multiple times. Python has two types of loops -- `for` loop and `while` loop."
   ]
  },
  {
   "cell_type": "code",
   "execution_count": null,
   "metadata": {
    "collapsed": false,
    "deletable": true,
    "editable": true
   },
   "outputs": [],
   "source": [
    "for i in [0,1,2]:\n",
    "    print(\"{}\".format(i))"
   ]
  },
  {
   "cell_type": "markdown",
   "metadata": {
    "deletable": true,
    "editable": true
   },
   "source": [
    "In `for` loop, we specify the variable we want to use, the `iterator` we want to loop over, and use the `in` (membership) operator to link them together."
   ]
  },
  {
   "cell_type": "code",
   "execution_count": null,
   "metadata": {
    "collapsed": false,
    "deletable": true,
    "editable": true
   },
   "outputs": [],
   "source": [
    "i = 2\n",
    "while i >= 0:\n",
    "    print(\"{}\".format(i))\n",
    "    i -= 1"
   ]
  },
  {
   "cell_type": "markdown",
   "metadata": {
    "deletable": true,
    "editable": true
   },
   "source": [
    "As you can see, they both serve different purposes. For loop is used when you want to run something for fixed amount of times, whereas while loop can theoretically run forever (if you use something like `while True:` .. *dont!* ). \n",
    "\n",
    "One of the most commonly used `iterator` with for loop is the `range` object which is used to generate the sequence of numbers"
   ]
  },
  {
   "cell_type": "code",
   "execution_count": null,
   "metadata": {
    "collapsed": false,
    "deletable": true,
    "editable": true
   },
   "outputs": [],
   "source": [
    "list(range(10))"
   ]
  },
  {
   "cell_type": "markdown",
   "metadata": {
    "deletable": true,
    "editable": true
   },
   "source": [
    "The `range` requires the *stop* argument. It can also accept *start* (at first position) and *step* (at third position) as arguments but if not passed, it creates a sequence of numbers from `0` till `stop - 1`. Remember, the *stop* is not included in the output"
   ]
  },
  {
   "cell_type": "code",
   "execution_count": null,
   "metadata": {
    "collapsed": false,
    "deletable": true,
    "editable": true
   },
   "outputs": [],
   "source": [
    "# With start and stop\n",
    "list(range(2, 20))"
   ]
  },
  {
   "cell_type": "code",
   "execution_count": null,
   "metadata": {
    "collapsed": false,
    "deletable": true,
    "editable": true
   },
   "outputs": [],
   "source": [
    "# With start, stop and step\n",
    "list(range(2, 20, 2))"
   ]
  },
  {
   "cell_type": "markdown",
   "metadata": {
    "deletable": true,
    "editable": true
   },
   "source": [
    "When you have an iterator of iterators .. for example a list of lists .. then you can use what is known as nested loops to flatten the list."
   ]
  },
  {
   "cell_type": "code",
   "execution_count": null,
   "metadata": {
    "collapsed": false,
    "deletable": true,
    "editable": true
   },
   "outputs": [],
   "source": [
    "# This is not the best way.. but for the sake of completion of\n",
    "# topic, this example is included.\n",
    "arr = [range(3), range(3, 6)]\n",
    "for lists in arr:\n",
    "    for elem in lists:\n",
    "        print(elem)"
   ]
  },
  {
   "cell_type": "markdown",
   "metadata": {
    "deletable": true,
    "editable": true
   },
   "source": [
    "### 01 - 05.03 Loop Control Statements\n",
    "Loop control statements change the executing of loop from its normal sequence.\n",
    "\n",
    "#### .. 05.03.01 Break"
   ]
  },
  {
   "cell_type": "markdown",
   "metadata": {
    "deletable": true,
    "editable": true
   },
   "source": [
    "It terminates the current loop and resumes the execution at the next statement. The most common use for break is when some external condition is triggered requiring a hasty exit from a loop. The break statement can be used in both while and for loops."
   ]
  },
  {
   "cell_type": "code",
   "execution_count": null,
   "metadata": {
    "collapsed": false,
    "deletable": true,
    "editable": true
   },
   "outputs": [],
   "source": [
    "for i in range(1, 10):\n",
    "    if i == 5:\n",
    "        print('Condition satisfied')\n",
    "        break\n",
    "    print(i)  # What would happen if this is placed before if condition?"
   ]
  },
  {
   "cell_type": "markdown",
   "metadata": {
    "deletable": true,
    "editable": true
   },
   "source": [
    "#### .. 05.03.02 Continue\n",
    "Continue statement returns the control to the beginning of the loop. The continue statement rejects all the remaining statements in the current iteration of the loop and moves the control back to the top of the loop."
   ]
  },
  {
   "cell_type": "code",
   "execution_count": null,
   "metadata": {
    "collapsed": false,
    "deletable": true,
    "editable": true
   },
   "outputs": [],
   "source": [
    "for i in range(1, 10):\n",
    "    if i == 5:\n",
    "        print('Condition satisfied')\n",
    "        continue\n",
    "        print(\"whatever.. I won't get printed anyways.\")\n",
    "    print(i)"
   ]
  },
  {
   "cell_type": "markdown",
   "metadata": {
    "deletable": true,
    "editable": true
   },
   "source": [
    "#### .. 05.03.03 Pass\n",
    "Pass is used when a statement is required syntactically but performs a null operation i.e. nothing happens when the statement is executed."
   ]
  },
  {
   "cell_type": "code",
   "execution_count": null,
   "metadata": {
    "collapsed": false,
    "deletable": true,
    "editable": true
   },
   "outputs": [],
   "source": [
    "for i in range(1, 10):\n",
    "    if i == 5:\n",
    "        print('Condition satisfied')\n",
    "        pass\n",
    "    print(i)"
   ]
  },
  {
   "cell_type": "markdown",
   "metadata": {
    "deletable": true,
    "editable": true
   },
   "source": [
    "As you can see execution of pass statement had no effect on the flow of the code. It wouldn't have mattered if it was not there. \n",
    "\n",
    "It is generally used as a temporary placeholder for an unimplemented logic. For example lets say you have written a function (we'll learn about functions a little later) and want to test the remaining part of code without actually running your function.. You can use pass statement in such cases. Python interpreter will read that and skip that part and get on with further execution."
   ]
  },
  {
   "cell_type": "markdown",
   "metadata": {},
   "source": [
    "### 01 - 05.04 Loops with else\n",
    "Python's Loop statements can be accompanies with an else block in cases where a certain block of code needs to be executed after the loop has successfully completed its execution i.e. iff the loop didn't `break` out in the middle of execution\n"
   ]
  },
  {
   "cell_type": "code",
   "execution_count": null,
   "metadata": {
    "collapsed": false
   },
   "outputs": [],
   "source": [
    "best = 11\n",
    "for i in range(10):\n",
    "    if i >= best:\n",
    "        print(\"Excellent\")\n",
    "        break\n",
    "    else:\n",
    "        continue\n",
    "else:\n",
    "    print(\"Couldn't find the best match\")"
   ]
  },
  {
   "cell_type": "markdown",
   "metadata": {},
   "source": [
    "Now if we change the `best` to something less than `10`"
   ]
  },
  {
   "cell_type": "code",
   "execution_count": null,
   "metadata": {
    "collapsed": false
   },
   "outputs": [],
   "source": [
    "best = 9\n",
    "for i in range(10):\n",
    "    if i >= best:\n",
    "        print(\"Excellent\")\n",
    "        break\n",
    "    else:\n",
    "        continue\n",
    "else:\n",
    "    print(\"Couldn't find the best match\")"
   ]
  },
  {
   "cell_type": "markdown",
   "metadata": {},
   "source": [
    "You can implement similar functionality using the `while` loop"
   ]
  }
 ],
 "metadata": {
  "kernelspec": {
   "display_name": "Python 3",
   "language": "python",
   "name": "python3"
  },
  "language_info": {
   "codemirror_mode": {
    "name": "ipython",
    "version": 3
   },
   "file_extension": ".py",
   "mimetype": "text/x-python",
   "name": "python",
   "nbconvert_exporter": "python",
   "pygments_lexer": "ipython3",
   "version": "3.6.1"
  }
 },
 "nbformat": 4,
 "nbformat_minor": 2
}
