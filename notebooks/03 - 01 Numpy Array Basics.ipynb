{
 "cells": [
  {
   "cell_type": "markdown",
   "metadata": {},
   "source": [
    "## 03 - 01 Numpy Array Basics\n",
    "\n",
    "Numpy's main object is the homogeneous multidimensional array. Numpy's array class is called `ndarray`. It is a table of numbers, indexed by a `tuple` of positive integers. In numpy dimensions are called as axes. The number of axes is known as rank. \n",
    "\n",
    "Numpy arrays are similar to Python lists with few differences such as: \n",
    " - All the elements in a numpy array must be of same datatype. \n",
    " - You can't change the size of a numpy array (atleast not without making a full copy.. we'll see this a little later)\n",
    " - Numpy arrays are easy to construct and to manipulate.\n",
    " - Numpy arrays support “vectorized” operations like elementwise addition and multiplication without having to run a `for` loop explicitly in python.\n",
    " \n",
    "We'll cover basic array manipulations here:\n",
    "- *Attributes of arrays*: Determining the size, shape, memory consumption, and data types of arrays\n",
    "- *Creating arrays*: Different ways of creating the Arrays\n",
    "- *Indexing of arrays*: Getting and setting the value of individual array elements\n",
    "- *Slicing of arrays*: Getting and setting smaller subarrays within a larger array\n",
    "- *Reshaping of arrays*: Changing the shape of a given array\n",
    "- *Joining and splitting of arrays*: Combining multiple arrays into one, and splitting one array into many\n",
    "\n",
    "### 03 - 01.01 Attributes of Arrays"
   ]
  },
  {
   "cell_type": "code",
   "execution_count": 2,
   "metadata": {},
   "outputs": [
    {
     "name": "stdout",
     "output_type": "stream",
     "text": [
      "Type:  <class 'numpy.ndarray'>\n",
      "Shape:  (4,)\n",
      "Dimension:  1\n",
      "Itemsize:  8\n",
      "Size:  4\n"
     ]
    }
   ],
   "source": [
    "import numpy as np\n",
    "# Single dimensional Array from a list\n",
    "arr = np.array([1, 2, 3, 4], dtype=float)\n",
    "print('Type: ',type(arr))\n",
    "print('Shape: ',arr.shape)\n",
    "print('Dimension: ',arr.ndim)\n",
    "print('Itemsize: ',arr.itemsize)\n",
    "print('Size: ',arr.size)"
   ]
  },
  {
   "cell_type": "markdown",
   "metadata": {},
   "source": [
    "The above is one of the many ways in which a numpy array can be created. The `np.array()` in above case takes two arguments: the `list` to be converted to numpy array and the `datatype` (`dtype`) of **every** member of the list. \n",
    "\n",
    "There are many different attributes of `ndarray` class and by now you should be able to understand how to access those attributes and get help for them (Hint: `<TAB>` completion). \n",
    "\n",
    "Let's understand at some of the attributes that we printer above.\n",
    "\n",
    "##### ndarray.ndim\n",
    "It is the number of axes or dimensions of the array.\n",
    "\n",
    "##### ndarray.shape\n",
    "It is the dimension of the array. This is a tuple of integers indicating the size of the array in each dimension. For matrix with n rows and m columns, the shape will be (m, n). The shape attribute is thus a tuple. For single dimensional arrays, the second element of the tuple will be None (as it is on our case).\n",
    "\n",
    "##### ndarray.dtype\n",
    "It is an object describing the type of the elements in the array. Remember that all the elements need to be of same datatype in a numpy array. Additionally numpy provides its own int16, int32, float64 and so on.\n",
    "\n",
    "##### ndarray.itemsize\n",
    "The size in bytes of each element of the array. For example an array of elements of type float64 has itemsize of $\\frac{64}{8} = 8$ and one complex32 has item size of $\\frac{32}{8} = 4$.\n",
    "\n",
    "##### ndarray.data\n",
    "This is the buffer containing the actual elements of the array. Normally this attribute is not used as numpy offers many fancy indexing facilities.\n",
    "\n",
    "Let's take a look at another example:"
   ]
  },
  {
   "cell_type": "code",
   "execution_count": 5,
   "metadata": {},
   "outputs": [
    {
     "name": "stdout",
     "output_type": "stream",
     "text": [
      "Datatype:  <U32\n"
     ]
    }
   ],
   "source": [
    "# Elements have to be of same datatype\n",
    "arr = np.array([1, 2.0, \"ucsl\"])\n",
    "print(\"Datatype: \", arr.dtype)"
   ]
  },
  {
   "cell_type": "markdown",
   "metadata": {},
   "source": [
    "Since we did not pass the `dtype` parameter, Numpy saw that there are mixed types and it converts the datatype of all the elements to type `U`nicode`32`. \n",
    "\n",
    "> To know all the datatypes supported by Numpy, you can type\n",
    "```ipython\n",
    "In [2]: np.typeDict\n",
    "```\n",
    "and check the output\n",
    "\n",
    "If we would've passed the `dtype` as `float` or anything other than a type of string or unicode, we would've recevied a value error. (Try it!)"
   ]
  },
  {
   "cell_type": "markdown",
   "metadata": {
    "collapsed": true
   },
   "source": [
    "### 03 - 01.02 Creating Arrays\n",
    "There are many different ways in which a numpy array can be created. We saw one in the above example. Lets look at some other ways of creating arrays"
   ]
  },
  {
   "cell_type": "code",
   "execution_count": 38,
   "metadata": {},
   "outputs": [
    {
     "name": "stdout",
     "output_type": "stream",
     "text": [
      "arange() with float dtype: \n",
      " [ 0.  1.  2.  3.  4.]\n",
      "\n",
      " linspace(): \n",
      " [ 0.  2.  4.  6.  8.]\n",
      "\n",
      " ones(): \n",
      " [[ 1.  1.  1.]\n",
      " [ 1.  1.  1.]]\n",
      "\n",
      " zeros(): \n",
      " [[ 0.  0.  0.]\n",
      " [ 0.  0.  0.]]\n",
      "\n",
      " Empty: \n",
      " [[ 0.  0.  0.  0.]\n",
      " [ 0.  0.  0.  0.]]\n",
      "\n",
      " Ones_like(): \n",
      " [ 1.  1.  1.  1.  1.]\n",
      "\n",
      " Diagonal array: \n",
      " [[ 0.  0.  0.  0.  0.]\n",
      " [ 0.  1.  0.  0.  0.]\n",
      " [ 0.  0.  2.  0.  0.]\n",
      " [ 0.  0.  0.  3.  0.]\n",
      " [ 0.  0.  0.  0.  4.]]\n"
     ]
    }
   ],
   "source": [
    "arr1 = np.arange(5, dtype=float)\n",
    "print('arange() with float dtype: \\n',arr1)\n",
    "# Divide the range between start and stop in equal `num` intervals\n",
    "arr2 = np.linspace(0, 8, num=5)\n",
    "print('\\n linspace(): \\n', arr2)\n",
    "arr3 = np.ones((2, 3), dtype=float)\n",
    "print ('\\n ones(): \\n',arr3)\n",
    "arr4 = np.zeros((2,3), dtype=float)\n",
    "print ('\\n zeros(): \\n',arr4)\n",
    "arr5 = np.empty((2, 4))\n",
    "print('\\n Empty: \\n',arr5)  # Your output may be different..\n",
    "arr6 = np.ones_like(arr1)\n",
    "print('\\n Ones_like(): \\n',arr6)\n",
    "arr7 = np.diag(arr1)\n",
    "print('\\n Diagonal array: \\n',arr7)"
   ]
  },
  {
   "cell_type": "markdown",
   "metadata": {},
   "source": [
    "#### np.arange()\n",
    "\n",
    "is the same as the range function that we used previously. This method will however return a numpy array.\n",
    "\n",
    "#### np.zeros() and np.ones()\n",
    "\n",
    "as the name suggests, generate new arrays of specified dimensions filled with these values. These are most commonly used functions to create new arrays.\n",
    "\n",
    "#### np.empty()\n",
    "\n",
    "This function creates an array whose initial content is random and depends on the state of the memory. If not specified, the data type of the created array is float64\n",
    "\n",
    "#### np.ones_like()  , np.zeros_like() and np.empty_like()\n",
    "\n",
    "These functions create a new array with the same dimensions and type as the existing one but with the values as either ones or zeros or random value.\n",
    "\n",
    "#### np.diag()\n",
    "\n",
    "As the name suggests, this will construct a diagonal array\n",
    "\n",
    "Let's take a look at an example for creating multi-dimensional array"
   ]
  },
  {
   "cell_type": "code",
   "execution_count": 18,
   "metadata": {},
   "outputs": [
    {
     "name": "stdout",
     "output_type": "stream",
     "text": [
      "2D array: \n",
      "[[ 0  1  2  3  4  5  6  7  8]\n",
      " [ 9 10 11 12 13 14 15 16 17]\n",
      " [18 19 20 21 22 23 24 25 26]]\n",
      "\n",
      "3D array: \n",
      "[[[ 0  1  2]\n",
      "  [ 3  4  5]\n",
      "  [ 6  7  8]]\n",
      "\n",
      " [[ 9 10 11]\n",
      "  [12 13 14]\n",
      "  [15 16 17]]\n",
      "\n",
      " [[18 19 20]\n",
      "  [21 22 23]\n",
      "  [24 25 26]]]\n",
      "\n"
     ]
    }
   ],
   "source": [
    "arr2d = np.arange(27).reshape(3, 9)\n",
    "print(\"2D array: \\n{}\\n\".format(arr2d))\n",
    "arr3d = np.arange(27).reshape(3,3,3)\n",
    "print(\"3D array: \\n{}\\n\".format(arr3d))"
   ]
  },
  {
   "cell_type": "markdown",
   "metadata": {},
   "source": [
    "Numpy displays the arrays in a similar way to nested lists but with the following layout:\n",
    "- the last axis is printed from left to right\n",
    "- the second to last axis is printed from top to bottom.\n",
    "- the rest rest are also printed from top to bottom with each slice separated from the next by an empty line\n",
    "Simply put, single dimensional array are printed as rows, bi dimensional and multi-dimensional are printed as matrices and as lists of matrices respectively.\n",
    "\n",
    "> We will look at reshaping of arrays later in this module"
   ]
  },
  {
   "cell_type": "markdown",
   "metadata": {},
   "source": [
    "### 03 - 01.03 Array Indexing\n",
    "Numpy arrays are indexed in the same way as lists are so accessing the elements for single dimensional array is equivalent to accessing elements in a list"
   ]
  },
  {
   "cell_type": "code",
   "execution_count": 20,
   "metadata": {},
   "outputs": [
    {
     "name": "stdout",
     "output_type": "stream",
     "text": [
      "7\n"
     ]
    }
   ],
   "source": [
    "arr = np.arange(3, 10)\n",
    "print(arr[4])"
   ]
  },
  {
   "cell_type": "markdown",
   "metadata": {},
   "source": [
    "You can also use negative indexing like we did for lists"
   ]
  },
  {
   "cell_type": "code",
   "execution_count": 24,
   "metadata": {},
   "outputs": [
    {
     "name": "stdout",
     "output_type": "stream",
     "text": [
      "7\n"
     ]
    }
   ],
   "source": [
    "print(arr[-3])"
   ]
  },
  {
   "cell_type": "markdown",
   "metadata": {},
   "source": [
    "Multi-dimensional array items can be accessed using comma-separated tuple of indexes"
   ]
  },
  {
   "cell_type": "code",
   "execution_count": 33,
   "metadata": {},
   "outputs": [
    {
     "name": "stdout",
     "output_type": "stream",
     "text": [
      "3D array: \n",
      " [[[ 0  1  2]\n",
      "  [ 3  4  5]\n",
      "  [ 6  7  8]]\n",
      "\n",
      " [[ 9 10 11]\n",
      "  [12 13 14]\n",
      "  [15 16 17]]\n",
      "\n",
      " [[18 19 20]\n",
      "  [21 22 23]\n",
      "  [24 25 26]]]\n",
      "\n",
      "Element at 2, 1, 0 is: 21\n"
     ]
    }
   ],
   "source": [
    "arr3d = np.arange(27).reshape(3,3,3)\n",
    "dim, row, col = 2, 1, 0\n",
    "print(\"3D array: \\n\", arr3d, end=\"\\n\\n\")\n",
    "print(\"Element at {dim}, {row}, {col} is: {val}\".format(dim=dim, \n",
    "                                                        row=row, \n",
    "                                                        col=col, \n",
    "                                                        val=arr3d[dim, row, col]))"
   ]
  },
  {
   "cell_type": "markdown",
   "metadata": {},
   "source": [
    "### 03 - 01.04 Array Slicing\n",
    "Slicing extracts the portion of a sequence by specifying a lower and upper bound. The lower bound element is included, but the upper-bound element is not included in slicing. Just like lists, there is a third parameter step which means the strides to be taken between the elements. If any of these are unspecified, they default to the values `start=0, stop=size of dimension, step=1`. Each of these parameters are separated by colons (`:`)"
   ]
  },
  {
   "cell_type": "code",
   "execution_count": 69,
   "metadata": {},
   "outputs": [
    {
     "name": "stdout",
     "output_type": "stream",
     "text": [
      "Original Array: \n",
      " [ 0.  2.  4.  6.  8.]\n",
      "\n",
      "arr[:3]:  [ 0.  2.  4.]\n",
      "arr[-5:5:2]:  [ 0.  4.  8.]\n",
      "arr[::2]:  [ 0.  4.  8.]\n",
      "arr[::-1]:  [ 8.  6.  4.  2.  0.]\n",
      "arr[2::-2]:  [ 4.  0.]\n"
     ]
    }
   ],
   "source": [
    "arr = np.linspace(0, 8, num=5)\n",
    "print(\"Original Array: \\n\", arr, end=\"\\n\\n\")\n",
    "# let the slicings begin\n",
    "print(\"arr[:3]: \", arr[:3])\n",
    "print(\"arr[-5:5:2]: \", arr[-5:5:2])\n",
    "print(\"arr[::2]: \", arr[::2])\n",
    "# Reverse the elements\n",
    "print(\"arr[::-1]: \", arr[::-1])\n",
    "# Reverse every other array from index 2\n",
    "print(\"arr[2::-2]: \", arr[2::-2])"
   ]
  },
  {
   "cell_type": "markdown",
   "metadata": {},
   "source": [
    "For multi-dimensional array, we specify in rows, columns format."
   ]
  },
  {
   "cell_type": "code",
   "execution_count": 113,
   "metadata": {},
   "outputs": [
    {
     "name": "stdout",
     "output_type": "stream",
     "text": [
      "2D array: \n",
      " [[ 9 81 20 10]\n",
      " [37 87 93 84]\n",
      " [67 39 95 62]]\n",
      "\n",
      "first row, three columns: \n",
      " [[ 9 81 20]]\n",
      "\n",
      "all rows, third column: \n",
      " [10 84 62]\n",
      "\n",
      "reversing rows and columns together: \n",
      " [[62 95 39 67]\n",
      " [84 93 87 37]\n",
      " [10 20 81  9]]\n",
      "\n"
     ]
    }
   ],
   "source": [
    "# Array of random integers between low and high of fixed size(mxn)\n",
    "arr = np.random.randint(low=0, high=100, size=(3,4))\n",
    "print(\"2D array: \\n\", arr, end=\"\\n\\n\")\n",
    "# first row, three columns\n",
    "print(\"first row, three columns: \\n\", arr[:1, :3], end=\"\\n\\n\")\n",
    "# all rows, third column\n",
    "print(\"all rows, third column: \\n\", arr[:, 3], end=\"\\n\\n\")\n",
    "# changing dimensions \n",
    "print(\"reversing rows and columns together: \\n\",\n",
    "     arr[::-1, ::-1], end=\"\\n\\n\")"
   ]
  },
  {
   "cell_type": "markdown",
   "metadata": {},
   "source": [
    "Slices are references to the original array in memory. Changing the values in a slice also changes the original array"
   ]
  },
  {
   "cell_type": "code",
   "execution_count": 53,
   "metadata": {},
   "outputs": [
    {
     "name": "stdout",
     "output_type": "stream",
     "text": [
      "arr1: \n",
      " [0 1 2 3 4]\n",
      "\n",
      "Sliced array: \n",
      " [3 4]\n",
      "\n",
      "Before changing, arr2[0]: \n",
      " 3\n",
      "\n",
      "After changing arr2[0], arr1: \n",
      " [ 0  1  2 99  4]\n"
     ]
    }
   ],
   "source": [
    "arr1 = np.arange(5)\n",
    "# slice arr1\n",
    "arr2 = arr1[3:5]\n",
    "print(\"arr1: \\n\", arr1, end=\"\\n\\n\")\n",
    "print(\"Sliced array: \\n\", arr2)\n",
    "print('\\nBefore changing, arr2[0]: \\n',arr2[0])\n",
    "# change value for 0th element of the slice\n",
    "arr2[0] = 99\n",
    "print('\\nAfter changing arr2[0], arr1: \\n',arr1)"
   ]
  },
  {
   "cell_type": "markdown",
   "metadata": {},
   "source": [
    "### 03 - 01.05 Reshaping Arrays\n",
    "We have been using `reshape` function to modify a one dimensional array to multi-dimensional array. This nifty method only works if your new array shape matches the size of the original array i.e `size = m x n`\n",
    "\n",
    "One can also row and column elements using `newaxis` method"
   ]
  },
  {
   "cell_type": "code",
   "execution_count": 138,
   "metadata": {},
   "outputs": [
    {
     "name": "stdout",
     "output_type": "stream",
     "text": [
      "Original Array: \n",
      " [38 27 55 65 15 22 85 33  8 78 40 10]\n",
      "\n",
      "Reshaped to 3 x 4: \n",
      " [[38 27 55 65]\n",
      " [15 22 85 33]\n",
      " [ 8 78 40 10]]\n",
      "\n",
      "Row vector : \n",
      " [[38 27 55 65 15 22 85 33  8 78 40 10]]\n",
      "\n",
      "Column vector : \n",
      " [[38]\n",
      " [27]\n",
      " [55]\n",
      " [65]\n",
      " [15]\n",
      " [22]\n",
      " [85]\n",
      " [33]\n",
      " [ 8]\n",
      " [78]\n",
      " [40]\n",
      " [10]]\n",
      "\n"
     ]
    }
   ],
   "source": [
    "arr = np.random.randint(low=0, high=100, size=12)\n",
    "print(\"Original Array: \\n\", arr, end=\"\\n\\n\")\n",
    "print(\"Reshaped to 3 x 4: \\n\", arr.reshape(3,4), end=\"\\n\\n\")\n",
    "print(\"Row vector : \\n\", arr[np.newaxis, :], end=\"\\n\\n\")\n",
    "print(\"Column vector : \\n\", arr[:, np.newaxis], end=\"\\n\\n\")"
   ]
  },
  {
   "cell_type": "code",
   "execution_count": null,
   "metadata": {
    "collapsed": true
   },
   "outputs": [],
   "source": []
  }
 ],
 "metadata": {
  "kernelspec": {
   "display_name": "Python 3",
   "language": "python",
   "name": "python3"
  },
  "language_info": {
   "codemirror_mode": {
    "name": "ipython",
    "version": 3
   },
   "file_extension": ".py",
   "mimetype": "text/x-python",
   "name": "python",
   "nbconvert_exporter": "python",
   "pygments_lexer": "ipython3",
   "version": "3.6.1"
  }
 },
 "nbformat": 4,
 "nbformat_minor": 2
}
