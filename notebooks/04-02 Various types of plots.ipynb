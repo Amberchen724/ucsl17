{
 "cells": [
  {
   "cell_type": "markdown",
   "metadata": {},
   "source": [
    "## 04 - 02 Various types of Plots\n",
    "In previous module we saw one of the basic types of plots -- line plots. Apart from line plots there are various different types of plots supported by matplotlib. \n",
    "\n",
    "In this module we shall take a look at some of them.\n",
    "\n",
    "> In this module, instead of plotting random data, we will load some of the publicly available datasets and plot them.\n",
    "\n",
    "> To load these files, we will be using `read_csv` function from `pandas` module.. somthing that we will dig deeper in the last module."
   ]
  },
  {
   "cell_type": "code",
   "execution_count": 2,
   "metadata": {
    "collapsed": true
   },
   "outputs": [],
   "source": [
    "# Our boilerplate imports\n",
    "%matplotlib inline\n",
    "import matplotlib.pyplot as plt\n",
    "plt.style.use('seaborn-darkgrid')\n",
    "import numpy as np\n",
    "import pandas as pd"
   ]
  },
  {
   "cell_type": "code",
   "execution_count": 73,
   "metadata": {},
   "outputs": [],
   "source": [
    "global_surface_temp = pd.read_csv('sample_datasets/global_surface_temp.csv', skiprows=1, \n",
    "                                  na_values=\"***\")\n",
    "global_co2_emission = pd.read_csv('sample_datasets/global_co2_emission.csv')"
   ]
  },
  {
   "cell_type": "markdown",
   "metadata": {},
   "source": [
    "### 04 - 02.01 Scatter plots\n",
    "Scatter plots are similar to line plots except that instead of points being joined by line segments, in scatter plots, the points are represented by a shape like circle, triangle, dot etc. These shapes are known as markers\n",
    "\n",
    "Lets take a look at a simple sine plot"
   ]
  },
  {
   "cell_type": "code",
   "execution_count": 76,
   "metadata": {},
   "outputs": [
    {
     "data": {
      "text/plain": [
       "<matplotlib.collections.PathCollection at 0x10eb39f98>"
      ]
     },
     "execution_count": 76,
     "metadata": {},
     "output_type": "execute_result"
    },
    {
     "data": {
      "image/png": "[encoded data removed]",
      "text/plain": [
       "<matplotlib.figure.Figure at 0x10ea4b240>"
      ]
     },
     "metadata": {},
     "output_type": "display_data"
    }
   ],
   "source": [
    "fig = plt.figure()\n",
    "ax = fig.add_subplot(111) \n",
    "theta = np.linspace(-np.pi, np.pi, 50)\n",
    "plt.scatter(theta, np.sin(theta))"
   ]
  },
  {
   "cell_type": "markdown",
   "metadata": {},
   "source": [
    "#### Markers\n",
    "\n",
    "There are various types of markers supported by matplotlib. Below is a visual representation of them\n",
    "\n",
    "marker     |  description  ||marker    |  description  ||marker    |  description  ||marker    |  description  \n",
    ":----------|:--------------||:---------|:--------------||:---------|:--------------||:---------|:--------------\n",
    "\".\"        |  point        ||\"+\"       |  plus         ||\",\"       |  pixel        ||\"x\"       |  cross\n",
    "\"o\"        |  circle       ||\"D\"       |  diamond      ||\"d\"       |  thin_diamond ||          |\n",
    "\"8\"        |  octagon      ||\"s\"       |  square       ||\"p\"       |  pentagon     ||\"\\*\"      |  star\n",
    "\"&#124;\"   |  vertical line||\"\\_\"      | horizontal line ||\"h\"     |  hexagon1     ||\"H\"       |  hexagon2\n",
    "0          |  tickleft     ||4         |  caretleft    ||\"<\"       | triangle_left ||\"3\"       |  tri_left\n",
    "1          |  tickright    ||5         |  caretright   ||\">\"       | triangle_right||\"4\"       |  tri_right\n",
    "2          |  tickup       ||6         |  caretup      ||\"^\"       | triangle_up   ||\"2\"       |  tri_up\n",
    "3          |  tickdown     ||7         |  caretdown    ||\"v\"       | triangle_down ||\"1\"       |  tri_down\n",
    "\"None\"     |  nothing      ||`None`    |  nothing      ||\" \"       |  nothing      ||\"\"        |  nothing\n",
    "\n",
    "<img src=\"images/mpl_markers.png\" />\n",
    "> Code to generate this plot is in `XX - Miscellaneous plots.ipynb` notebook"
   ]
  },
  {
   "cell_type": "code",
   "execution_count": 81,
   "metadata": {},
   "outputs": [
    {
     "data": {
      "text/plain": [
       "<matplotlib.collections.PathCollection at 0x10f2c7f98>"
      ]
     },
     "execution_count": 81,
     "metadata": {},
     "output_type": "execute_result"
    },
    {
     "data": {
      "image/png": "[encoded data removed]",
      "text/plain": [
       "<matplotlib.figure.Figure at 0x10f118780>"
      ]
     },
     "metadata": {},
     "output_type": "display_data"
    }
   ],
   "source": [
    "fig = plt.figure()\n",
    "ax = fig.add_subplot(111) \n",
    "theta = np.linspace(-np.pi, np.pi, 50)\n",
    "plt.scatter(theta, np.sin(theta), marker=\"*\")"
   ]
  },
  {
   "cell_type": "markdown",
   "metadata": {},
   "source": [
    "Just before this sine plot, we also loaded global carbon emissions dataset. Lets "
   ]
  }
 ],
 "metadata": {
  "kernelspec": {
   "display_name": "Python 3",
   "language": "python",
   "name": "python3"
  },
  "language_info": {
   "codemirror_mode": {
    "name": "ipython",
    "version": 3
   },
   "file_extension": ".py",
   "mimetype": "text/x-python",
   "name": "python",
   "nbconvert_exporter": "python",
   "pygments_lexer": "ipython3",
   "version": "3.6.1"
  }
 },
 "nbformat": 4,
 "nbformat_minor": 2
}
